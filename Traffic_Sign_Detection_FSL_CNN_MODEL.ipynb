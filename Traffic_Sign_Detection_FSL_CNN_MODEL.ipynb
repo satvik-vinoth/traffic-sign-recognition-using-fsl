{
  "cells": [
    {
      "cell_type": "markdown",
      "metadata": {
        "id": "ESxtDQ8c76tE"
      },
      "source": [
        "# Traffic Sign Recognition using Few-Shot Learning (CNN MODEL)"
      ]
    },
    {
      "cell_type": "markdown",
      "metadata": {
        "id": "9Wd2piOA7_DY"
      },
      "source": [
        "## LOADING DATA"
      ]
    },
    {
      "cell_type": "code",
      "execution_count": 1,
      "metadata": {
        "id": "MG5xfwqsic5B"
      },
      "outputs": [],
      "source": [
        "import random\n",
        "import numpy as np\n",
        "import torch\n",
        "\n",
        "def set_seed(seed=42):\n",
        "    random.seed(seed)\n",
        "    np.random.seed(seed)\n",
        "    torch.manual_seed(seed)\n",
        "    torch.cuda.manual_seed(seed)\n",
        "    torch.cuda.manual_seed_all(seed)\n",
        "    torch.backends.cudnn.deterministic = True\n",
        "    torch.backends.cudnn.benchmark = False\n",
        "\n",
        "set_seed(42)\n"
      ]
    },
    {
      "cell_type": "code",
      "execution_count": 7,
      "metadata": {
        "colab": {
          "base_uri": "https://localhost:8080/"
        },
        "id": "qj-PNUDjBMt5",
        "outputId": "26d27293-1213-4a11-c0db-29ce1a2b41d5"
      },
      "outputs": [
        {
          "name": "stdout",
          "output_type": "stream",
          "text": [
            "Downloading from https://www.kaggle.com/api/v1/datasets/download/meowmeowmeowmeowmeow/gtsrb-german-traffic-sign?dataset_version_number=1...\n"
          ]
        },
        {
          "name": "stderr",
          "output_type": "stream",
          "text": [
            "100%|██████████| 612M/612M [01:59<00:00, 5.39MB/s] "
          ]
        },
        {
          "name": "stdout",
          "output_type": "stream",
          "text": [
            "Extracting files...\n"
          ]
        },
        {
          "name": "stderr",
          "output_type": "stream",
          "text": [
            "\n"
          ]
        },
        {
          "name": "stdout",
          "output_type": "stream",
          "text": [
            "Path to dataset files: C:\\Users\\VINOTH RAJENDRAN\\.cache\\kagglehub\\datasets\\meowmeowmeowmeowmeow\\gtsrb-german-traffic-sign\\versions\\1\n"
          ]
        }
      ],
      "source": [
        "import kagglehub\n",
        "\n",
        "path = kagglehub.dataset_download(\"meowmeowmeowmeowmeow/gtsrb-german-traffic-sign\")\n",
        "\n",
        "print(\"Path to dataset files:\", path)"
      ]
    },
    {
      "cell_type": "code",
      "execution_count": 8,
      "metadata": {
        "colab": {
          "base_uri": "https://localhost:8080/"
        },
        "id": "kbP9wAluBM-Z",
        "outputId": "4da22578-442f-4086-e989-32564a0291be"
      },
      "outputs": [
        {
          "name": "stdout",
          "output_type": "stream",
          "text": [
            "Datasets copied to Colab workspace.\n"
          ]
        }
      ],
      "source": [
        "import shutil\n",
        "\n",
        "colab_path = \"/content\"\n",
        "shutil.copytree(path, colab_path, dirs_exist_ok=True)\n",
        "\n",
        "print(\"Datasets copied to Colab workspace.\")\n"
      ]
    },
    {
      "cell_type": "markdown",
      "metadata": {
        "id": "10P9iumu8Dom"
      },
      "source": [
        "## EXPLORING DATASET"
      ]
    },
    {
      "cell_type": "code",
      "execution_count": 9,
      "metadata": {
        "colab": {
          "base_uri": "https://localhost:8080/"
        },
        "id": "1IvaPHZ6BTav",
        "outputId": "d93dd25b-e598-420b-e7f0-f23610914d54"
      },
      "outputs": [
        {
          "name": "stdout",
          "output_type": "stream",
          "text": [
            "Dataset contents: ['Meta', 'Meta.csv', 'Test', 'Test.csv', 'Train', 'Train.csv']\n",
            "Train Folder: ['0', '1', '10', '11', '12']\n",
            "Test Folder: ['00000.png', '00001.png', '00002.png', '00003.png', '00004.png']\n"
          ]
        }
      ],
      "source": [
        "import os\n",
        "\n",
        "dataset_path = \"/content\"\n",
        "\n",
        "print(\"Dataset contents:\", os.listdir(dataset_path))\n",
        "\n",
        "print(\"Train Folder:\", os.listdir(os.path.join(dataset_path, \"Train\"))[:5])\n",
        "print(\"Test Folder:\", os.listdir(os.path.join(dataset_path, \"Test\"))[:5])"
      ]
    },
    {
      "cell_type": "code",
      "execution_count": 5,
      "metadata": {
        "colab": {
          "base_uri": "https://localhost:8080/"
        },
        "id": "tbxmDngJBn9K",
        "outputId": "eeeeeefc-592a-4218-833d-c1f1664b0ca6"
      },
      "outputs": [
        {
          "name": "stdout",
          "output_type": "stream",
          "text": [
            "Total Number of Classes: 43\n",
            "Images per class:\n",
            "Class 0: 210 images\n",
            "Class 1: 2220 images\n",
            "Class 10: 2010 images\n",
            "Class 11: 1320 images\n",
            "Class 12: 2100 images\n",
            "Class 13: 2160 images\n",
            "Class 14: 780 images\n",
            "Class 15: 630 images\n",
            "Class 16: 420 images\n",
            "Class 17: 1110 images\n",
            "Class 18: 1200 images\n",
            "Class 19: 210 images\n",
            "Class 2: 2250 images\n",
            "Class 20: 360 images\n",
            "Class 21: 330 images\n",
            "Class 22: 390 images\n",
            "Class 23: 510 images\n",
            "Class 24: 270 images\n",
            "Class 25: 1500 images\n",
            "Class 26: 600 images\n",
            "Class 27: 240 images\n",
            "Class 28: 540 images\n",
            "Class 29: 270 images\n",
            "Class 3: 1410 images\n",
            "Class 30: 450 images\n",
            "Class 31: 780 images\n",
            "Class 32: 240 images\n",
            "Class 33: 689 images\n",
            "Class 34: 420 images\n",
            "Class 35: 1200 images\n",
            "Class 36: 390 images\n",
            "Class 37: 210 images\n",
            "Class 38: 2070 images\n",
            "Class 39: 300 images\n",
            "Class 4: 1980 images\n",
            "Class 40: 360 images\n",
            "Class 41: 240 images\n",
            "Class 42: 240 images\n",
            "Class 5: 1860 images\n",
            "Class 6: 420 images\n",
            "Class 7: 1440 images\n",
            "Class 8: 1410 images\n",
            "Class 9: 1470 images\n"
          ]
        }
      ],
      "source": [
        "import os\n",
        "\n",
        "train_path = \"/content/Train\"\n",
        "\n",
        "classes = sorted(os.listdir(train_path))\n",
        "num_classes = len(classes)\n",
        "\n",
        "class_counts = {cls: len(os.listdir(os.path.join(train_path, cls))) for cls in classes}\n",
        "\n",
        "print(f\"Total Number of Classes: {num_classes}\")\n",
        "print(\"Images per class:\")\n",
        "for cls, count in class_counts.items():\n",
        "    print(f\"Class {cls}: {count} images\")\n"
      ]
    },
    {
      "cell_type": "code",
      "execution_count": 6,
      "metadata": {
        "colab": {
          "base_uri": "https://localhost:8080/"
        },
        "id": "v6OtheLhD_1Y",
        "outputId": "d8f1d46b-be7c-466b-ff4e-deb9836d99ea"
      },
      "outputs": [
        {
          "name": "stdout",
          "output_type": "stream",
          "text": [
            "Total Number of Test Images: 12631\n"
          ]
        }
      ],
      "source": [
        "test_path = \"/content/Test\"\n",
        "\n",
        "num_test_images = len(os.listdir(test_path))\n",
        "\n",
        "print(f\"Total Number of Test Images: {num_test_images}\")\n"
      ]
    },
    {
      "cell_type": "code",
      "execution_count": 7,
      "metadata": {
        "colab": {
          "base_uri": "https://localhost:8080/"
        },
        "id": "FJW_SSl8EJC4",
        "outputId": "add3e6ae-7998-46f4-fa5c-4de0f3583c67"
      },
      "outputs": [
        {
          "name": "stdout",
          "output_type": "stream",
          "text": [
            "Total Number of Test Images: 12630\n",
            "Test Images per Class:\n",
            "ClassId\n",
            "0      60\n",
            "1     720\n",
            "2     750\n",
            "3     450\n",
            "4     660\n",
            "5     630\n",
            "6     150\n",
            "7     450\n",
            "8     450\n",
            "9     480\n",
            "10    660\n",
            "11    420\n",
            "12    690\n",
            "13    720\n",
            "14    270\n",
            "15    210\n",
            "16    150\n",
            "17    360\n",
            "18    390\n",
            "19     60\n",
            "20     90\n",
            "21     90\n",
            "22    120\n",
            "23    150\n",
            "24     90\n",
            "25    480\n",
            "26    180\n",
            "27     60\n",
            "28    150\n",
            "29     90\n",
            "30    150\n",
            "31    270\n",
            "32     60\n",
            "33    210\n",
            "34    120\n",
            "35    390\n",
            "36    120\n",
            "37     60\n",
            "38    690\n",
            "39     90\n",
            "40     90\n",
            "41     60\n",
            "42     90\n",
            "Name: count, dtype: int64\n"
          ]
        }
      ],
      "source": [
        "import pandas as pd\n",
        "\n",
        "test_csv_path = \"/content/Test.csv\"\n",
        "\n",
        "df = pd.read_csv(test_csv_path)\n",
        "\n",
        "test_class_counts = df['ClassId'].value_counts().sort_index()\n",
        "\n",
        "print(f\"Total Number of Test Images: {len(df)}\")\n",
        "print(\"Test Images per Class:\")\n",
        "print(test_class_counts)\n"
      ]
    },
    {
      "cell_type": "markdown",
      "metadata": {
        "id": "X4Pc0f748QZC"
      },
      "source": [
        "## Custom Few-Shot Learning Dataset Loader"
      ]
    },
    {
      "cell_type": "code",
      "execution_count": 8,
      "metadata": {
        "id": "vvh95W0VELBr"
      },
      "outputs": [],
      "source": [
        "import torch\n",
        "import random\n",
        "import os\n",
        "from torchvision import transforms\n",
        "from PIL import Image\n",
        "\n",
        "class TrafficSignFewShotDataset(torch.utils.data.Dataset):\n",
        "    def __init__(self, root, num_classes=5, num_support=1, num_query=5, image_size=84):\n",
        "        self.root = root\n",
        "        self.num_classes = num_classes\n",
        "        self.num_support = num_support\n",
        "        self.num_query = num_query\n",
        "        self.image_size = image_size\n",
        "\n",
        "        self.transform = transforms.Compose([\n",
        "            transforms.Resize((image_size, image_size)),\n",
        "            transforms.ToTensor(),\n",
        "            transforms.Normalize(mean=[0.485, 0.456, 0.406], std=[0.229, 0.224, 0.225])\n",
        "        ])\n",
        "\n",
        "        self.data_by_class = {}\n",
        "        for class_name in sorted(os.listdir(root)):\n",
        "            class_path = os.path.join(root, class_name)\n",
        "\n",
        "            if os.path.isdir(class_path):\n",
        "                image_files = [os.path.join(class_path, img) for img in os.listdir(class_path) if img.endswith('.png') or img.endswith('.jpg')]\n",
        "                if len(image_files) >= self.num_support + self.num_query:\n",
        "                    self.data_by_class[class_name] = image_files\n",
        "        self.class_list = sorted(list(self.data_by_class.keys()))\n",
        "\n",
        "    def sample_episode(self):\n",
        "        if len(self.class_list) < self.num_classes:\n",
        "            raise ValueError(\"Not enough classes to sample required N-way task.\")\n",
        "\n",
        "        selected_classes = random.sample(self.class_list, self.num_classes)\n",
        "        support_set, query_set = [], []\n",
        "        real_labels = {}\n",
        "\n",
        "        for temp_label, cls in enumerate(selected_classes):\n",
        "            real_labels[temp_label] = cls\n",
        "\n",
        "            if len(self.data_by_class[cls]) < self.num_support + self.num_query:\n",
        "                continue\n",
        "\n",
        "            images = random.sample(self.data_by_class[cls], self.num_support + self.num_query)\n",
        "            support_set.extend([(img, temp_label) for img in images[:self.num_support]])\n",
        "            query_set.extend([(img, temp_label) for img in images[self.num_support:]])\n",
        "\n",
        "        return support_set, query_set, real_labels\n",
        "\n",
        "    def __getitem__(self, index):\n",
        "        support_set, query_set, real_labels = self.sample_episode()\n",
        "\n",
        "        def load_image(data):\n",
        "            images, labels = [], []\n",
        "            for img_path, label in data:\n",
        "                img = Image.open(img_path).convert(\"RGB\")\n",
        "                img = self.transform(img)\n",
        "                images.append(img)\n",
        "                labels.append(label)\n",
        "            return torch.stack(images), torch.tensor(labels)\n",
        "\n",
        "        support_images, support_labels = load_image(support_set)\n",
        "        query_images, query_labels = load_image(query_set)\n",
        "\n",
        "        return support_images, support_labels, query_images, query_labels, real_labels  # ✅ Return real label mapping\n",
        "\n",
        "    def __len__(self):\n",
        "        return 1000\n"
      ]
    },
    {
      "cell_type": "markdown",
      "metadata": {
        "id": "m0mUHavu8bX6"
      },
      "source": [
        "## CNN-Based Feature Extractor for Prototypical Networks"
      ]
    },
    {
      "cell_type": "code",
      "execution_count": 10,
      "metadata": {
        "id": "8brcRyLuFM91"
      },
      "outputs": [],
      "source": [
        "import torch\n",
        "import torch.nn as nn\n",
        "import torch.optim as optim\n",
        "import torch.nn.functional as F\n",
        "\n",
        "class ProtoNet(nn.Module):\n",
        "    def __init__(self, feature_dim=64):\n",
        "        super(ProtoNet, self).__init__()\n",
        "\n",
        "        self.encoder = nn.Sequential(\n",
        "            nn.Conv2d(3, 64, kernel_size=3, stride=1, padding=1),\n",
        "            nn.BatchNorm2d(64),\n",
        "            nn.ReLU(),\n",
        "            nn.MaxPool2d(2),\n",
        "\n",
        "            nn.Conv2d(64, 64, kernel_size=3, stride=1, padding=1),\n",
        "            nn.BatchNorm2d(64),\n",
        "            nn.ReLU(),\n",
        "            nn.MaxPool2d(2),\n",
        "\n",
        "            nn.Conv2d(64, 64, kernel_size=3, stride=1, padding=1),\n",
        "            nn.BatchNorm2d(64),\n",
        "            nn.ReLU(),\n",
        "            nn.MaxPool2d(2),\n",
        "\n",
        "            nn.Conv2d(64, feature_dim, kernel_size=3, stride=1, padding=1),\n",
        "            nn.BatchNorm2d(feature_dim),\n",
        "            nn.ReLU(),\n",
        "            nn.MaxPool2d(2)\n",
        "        )\n",
        "\n",
        "    def forward(self, x):\n",
        "        return self.encoder(x).view(x.shape[0], -1)"
      ]
    },
    {
      "cell_type": "code",
      "execution_count": 11,
      "metadata": {
        "id": "vULkG4tlGNVo"
      },
      "outputs": [],
      "source": [
        "def euclidean_distance(a, b):\n",
        "    return torch.sum((a.unsqueeze(1) - b.unsqueeze(0)) ** 2, dim=2)\n"
      ]
    },
    {
      "cell_type": "markdown",
      "metadata": {
        "id": "zmB7Zu0l8ekC"
      },
      "source": [
        "## TRAINING MODEL"
      ]
    },
    {
      "cell_type": "code",
      "execution_count": 11,
      "metadata": {
        "id": "WGUdW8X6GOfi"
      },
      "outputs": [],
      "source": [
        "from tqdm import tqdm\n",
        "\n",
        "def train_protonet(model, dataloader, optimizer, num_epochs=50, device=\"cuda\"):\n",
        "    model.train()\n",
        "    model.to(device)\n",
        "\n",
        "    for epoch in range(num_epochs):\n",
        "        total_loss = 0.0\n",
        "        total_acc = 0.0\n",
        "\n",
        "        for support_imgs, support_labels, query_imgs, query_labels, _  in tqdm(dataloader):\n",
        "            support_imgs, query_imgs = support_imgs.squeeze(0).to(device), query_imgs.squeeze(0).to(device)\n",
        "            support_labels, query_labels = support_labels.squeeze(0).to(device), query_labels.squeeze(0).to(device)\n",
        "\n",
        "            support_embeddings = model(support_imgs)\n",
        "            query_embeddings = model(query_imgs)\n",
        "\n",
        "            unique_labels = torch.unique(support_labels)\n",
        "            prototypes = torch.stack([support_embeddings[support_labels == lbl].mean(0) for lbl in unique_labels])\n",
        "\n",
        "            dists = euclidean_distance(query_embeddings, prototypes)\n",
        "            log_p_y = F.log_softmax(-dists, dim=1)\n",
        "\n",
        "            loss = F.nll_loss(log_p_y, query_labels)\n",
        "            optimizer.zero_grad()\n",
        "            loss.backward()\n",
        "            optimizer.step()\n",
        "\n",
        "            _, predictions = torch.max(log_p_y, 1)\n",
        "            acc = (predictions == query_labels).float().mean()\n",
        "\n",
        "            total_loss += loss.item()\n",
        "            total_acc += acc.item()\n",
        "\n",
        "        print(f\"Epoch {epoch+1}/{num_epochs}: Loss = {total_loss/len(dataloader):.4f}, Accuracy = {total_acc/len(dataloader):.4f}\")\n"
      ]
    },
    {
      "cell_type": "code",
      "execution_count": 12,
      "metadata": {
        "colab": {
          "base_uri": "https://localhost:8080/"
        },
        "collapsed": true,
        "id": "gosP5FDuGPvH",
        "outputId": "1386a0ec-83f1-47a9-d64a-4ac184410fc2"
      },
      "outputs": [
        {
          "name": "stderr",
          "output_type": "stream",
          "text": [
            "100%|██████████| 1000/1000 [13:10<00:00,  1.26it/s]\n"
          ]
        },
        {
          "name": "stdout",
          "output_type": "stream",
          "text": [
            "Epoch 1/5: Loss = 2.9841, Accuracy = 0.8318\n"
          ]
        },
        {
          "name": "stderr",
          "output_type": "stream",
          "text": [
            "100%|██████████| 1000/1000 [12:52<00:00,  1.29it/s]\n"
          ]
        },
        {
          "name": "stdout",
          "output_type": "stream",
          "text": [
            "Epoch 2/5: Loss = 0.1334, Accuracy = 0.9583\n"
          ]
        },
        {
          "name": "stderr",
          "output_type": "stream",
          "text": [
            "100%|██████████| 1000/1000 [13:18<00:00,  1.25it/s]\n"
          ]
        },
        {
          "name": "stdout",
          "output_type": "stream",
          "text": [
            "Epoch 3/5: Loss = 0.0620, Accuracy = 0.9805\n"
          ]
        },
        {
          "name": "stderr",
          "output_type": "stream",
          "text": [
            "100%|██████████| 1000/1000 [12:55<00:00,  1.29it/s]\n"
          ]
        },
        {
          "name": "stdout",
          "output_type": "stream",
          "text": [
            "Epoch 4/5: Loss = 0.0399, Accuracy = 0.9874\n"
          ]
        },
        {
          "name": "stderr",
          "output_type": "stream",
          "text": [
            "100%|██████████| 1000/1000 [12:48<00:00,  1.30it/s]"
          ]
        },
        {
          "name": "stdout",
          "output_type": "stream",
          "text": [
            "Epoch 5/5: Loss = 0.0251, Accuracy = 0.9918\n",
            "Model saved at /content/protonet_model.pth\n"
          ]
        },
        {
          "name": "stderr",
          "output_type": "stream",
          "text": [
            "\n"
          ]
        }
      ],
      "source": [
        "num_classes = 30\n",
        "num_support = 10\n",
        "num_query = 10\n",
        "num_epochs = 5\n",
        "batch_size = 1\n",
        "device = \"cuda\" if torch.cuda.is_available() else \"cpu\"\n",
        "\n",
        "train_path = \"/content/Train\"\n",
        "\n",
        "train_dataset = TrafficSignFewShotDataset(root=train_path, num_classes=num_classes, num_support=num_support, num_query=num_query)\n",
        "train_loader = torch.utils.data.DataLoader(train_dataset, batch_size=batch_size, shuffle=True)\n",
        "\n",
        "model = ProtoNet().to(device)\n",
        "optimizer = torch.optim.Adam(model.parameters(), lr=0.0005)\n",
        "\n",
        "train_protonet(model, train_loader, optimizer, num_epochs=num_epochs, device=device)\n",
        "\n",
        "model_path = \"/content/protonet_model.pth\"\n",
        "torch.save(model.state_dict(), model_path)\n",
        "print(f\"Model saved at {model_path}\")\n",
        "\n"
      ]
    },
    {
      "cell_type": "markdown",
      "metadata": {
        "id": "62QSYTXO-aKN"
      },
      "source": [
        "## TRAINING DATA ACCURACY"
      ]
    },
    {
      "cell_type": "code",
      "execution_count": 13,
      "metadata": {
        "colab": {
          "base_uri": "https://localhost:8080/"
        },
        "id": "OODgIwKQGT3u",
        "outputId": "31c09b8a-86dd-4cc1-a322-7b7415f31dfe"
      },
      "outputs": [
        {
          "name": "stdout",
          "output_type": "stream",
          "text": [
            "Final Training Accuracy: 99.30%\n",
            "Train Precision: 0.9930, Train Recall: 0.9930, Train F1-score: 0.9930\n"
          ]
        }
      ],
      "source": [
        "import torch\n",
        "from sklearn.metrics import precision_score, recall_score, f1_score\n",
        "\n",
        "def train_protonet_evaluation(model, train_loader, device=\"cuda\"):\n",
        "    model.eval()\n",
        "    train_total_correct = 0\n",
        "    train_total_samples = 0\n",
        "\n",
        "    all_train_true_labels = []\n",
        "    all_train_pred_labels = []\n",
        "\n",
        "    with torch.no_grad():\n",
        "        for batch in train_loader:\n",
        "            support_images, support_labels, query_images, query_labels, real_labels = batch\n",
        "            support_images, support_labels = support_images.squeeze(0).to(device), support_labels.squeeze(0).to(device)\n",
        "            query_images, query_labels = query_images.squeeze(0).to(device), query_labels.squeeze(0).to(device)\n",
        "\n",
        "\n",
        "            support_embeddings = model(support_images)\n",
        "            unique_labels = torch.unique(support_labels)\n",
        "            prototypes = torch.stack([support_embeddings[support_labels == lbl].mean(0) for lbl in unique_labels])\n",
        "\n",
        "            query_embeddings = model(query_images)\n",
        "            dists = euclidean_distance(query_embeddings, prototypes)\n",
        "            predicted_labels = torch.argmin(dists, dim=1)\n",
        "\n",
        "\n",
        "            real_pred_labels = [real_labels[pred.item()] for pred in predicted_labels]\n",
        "            real_train_labels = [real_labels[true.item()] for true in query_labels]\n",
        "\n",
        "            correct = sum(p == t for p, t in zip(real_pred_labels, real_train_labels))\n",
        "            train_total_correct += correct\n",
        "            train_total_samples += len(real_train_labels)\n",
        "\n",
        "            all_train_pred_labels.extend(real_pred_labels)\n",
        "            all_train_true_labels.extend(real_train_labels)\n",
        "\n",
        "    precision = precision_score(all_train_true_labels, all_train_pred_labels, average='macro')\n",
        "    recall = recall_score(all_train_true_labels, all_train_pred_labels, average='macro')\n",
        "    f1 = f1_score(all_train_true_labels, all_train_pred_labels, average='macro')\n",
        "\n",
        "    train_accuracy = (train_total_correct / train_total_samples) * 100\n",
        "\n",
        "    print(f\"Final Training Accuracy: {train_accuracy:.2f}%\")\n",
        "    print(f\"Train Precision: {precision:.4f}, Train Recall: {recall:.4f}, Train F1-score: {f1:.4f}\")\n",
        "\n",
        "    return train_accuracy, precision, recall, f1\n",
        "\n",
        "train_accuracy, precision, recall, f1 = train_protonet_evaluation(model, train_loader, device=\"cuda\")\n"
      ]
    },
    {
      "cell_type": "markdown",
      "metadata": {
        "id": "Y9mIVaRf-d9S"
      },
      "source": [
        "## TESTING DATA ACCURACY"
      ]
    },
    {
      "cell_type": "code",
      "execution_count": 14,
      "metadata": {
        "id": "f3CLbUzvc_UJ"
      },
      "outputs": [],
      "source": [
        "import torch\n",
        "import os\n",
        "import pandas as pd\n",
        "import random\n",
        "from PIL import Image, UnidentifiedImageError\n",
        "from torchvision import transforms\n",
        "from tqdm import tqdm\n",
        "import gc\n",
        "from sklearn.metrics import precision_score, recall_score, f1_score\n",
        "\n",
        "def load_test_labels(csv_path):\n",
        "\n",
        "    df = pd.read_csv(csv_path)\n",
        "    label_map = {row[\"Path\"].split(\"/\")[-1]: row[\"ClassId\"] for _, row in df.iterrows()}\n",
        "    return label_map\n",
        "\n",
        "import torch\n",
        "import os\n",
        "import random\n",
        "from PIL import Image\n",
        "from torchvision import transforms\n",
        "\n",
        "def create_support_set(train_path, batch_size=500, image_size=84, device=\"cuda\", seed=42):\n",
        "\n",
        "    random.seed(seed)\n",
        "    torch.manual_seed(seed)\n",
        "\n",
        "    transform = transforms.Compose([\n",
        "        transforms.Resize((image_size, image_size)),\n",
        "        transforms.ToTensor(),\n",
        "        transforms.Normalize(mean=[0.485, 0.456, 0.406], std=[0.229, 0.224, 0.225])\n",
        "    ])\n",
        "\n",
        "    support_embeddings = []\n",
        "    support_labels = []\n",
        "\n",
        "    class_folders = sorted(os.listdir(train_path))\n",
        "    total_images = 0\n",
        "\n",
        "    for class_folder in class_folders:\n",
        "        class_path = os.path.join(train_path, class_folder)\n",
        "\n",
        "        if not os.path.isdir(class_path):\n",
        "            continue\n",
        "\n",
        "        image_files = [f for f in os.listdir(class_path) if f.endswith(('.png', '.jpg', '.jpeg'))]\n",
        "\n",
        "        batch = []\n",
        "        batch_labels = []\n",
        "\n",
        "        for img_name in image_files:\n",
        "            img_path = os.path.join(class_path, img_name)\n",
        "            image = Image.open(img_path).convert(\"RGB\")\n",
        "            image = transform(image).to(device)\n",
        "            batch.append(image)\n",
        "            batch_labels.append(int(class_folder))\n",
        "\n",
        "            if len(batch) == batch_size:\n",
        "                batch_tensor = torch.stack(batch).to(device)\n",
        "                batch_labels_tensor = torch.tensor(batch_labels, device=device)\n",
        "\n",
        "                with torch.no_grad():\n",
        "                    batch_embeddings = model(batch_tensor).cpu()\n",
        "\n",
        "                support_embeddings.append(batch_embeddings)\n",
        "                support_labels.append(batch_labels_tensor.cpu())\n",
        "                del batch_tensor, batch_labels_tensor, batch_embeddings\n",
        "                torch.cuda.empty_cache()\n",
        "                gc.collect()\n",
        "\n",
        "                batch = []\n",
        "                batch_labels = []\n",
        "\n",
        "\n",
        "        if batch:\n",
        "            batch_tensor = torch.stack(batch).to(device)\n",
        "            batch_labels_tensor = torch.tensor(batch_labels, device=device)\n",
        "\n",
        "            with torch.no_grad():\n",
        "                batch_embeddings = model(batch_tensor).cpu()\n",
        "\n",
        "            support_embeddings.append(batch_embeddings)\n",
        "            support_labels.append(batch_labels_tensor.cpu())\n",
        "\n",
        "            del batch_tensor, batch_labels_tensor, batch_embeddings\n",
        "            torch.cuda.empty_cache()\n",
        "            gc.collect()\n",
        "\n",
        "        total_images += len(image_files)\n",
        "\n",
        "    support_embeddings = torch.cat(support_embeddings, dim=0)\n",
        "    support_labels = torch.cat(support_labels, dim=0)\n",
        "\n",
        "    print(f\"Support set created with {total_images} images from {len(torch.unique(support_labels))} classes (Processed in batches).\")\n",
        "    return support_embeddings, support_labels\n",
        "\n",
        "def evaluate_protonet(model, train_path, test_path, test_csv, device=\"cuda\", test_batch_size=100):\n",
        "    model.eval()\n",
        "    model.to(device)\n",
        "    all_test_true_labels = []\n",
        "    all_test_pred_labels = []\n",
        "\n",
        "    support_embeddings, support_labels = create_support_set(train_path, batch_size=500, device=device)\n",
        "\n",
        "    unique_labels = torch.unique(support_labels)\n",
        "    class_prototypes = {}\n",
        "\n",
        "    for lbl in unique_labels:\n",
        "        class_prototypes[lbl.item()] = support_embeddings[support_labels == lbl].mean(0).cpu()\n",
        "\n",
        "    prototype_tensors = torch.stack([class_prototypes[lbl] for lbl in sorted(class_prototypes.keys())]).to(device)\n",
        "\n",
        "    test_labels = load_test_labels(test_csv)\n",
        "\n",
        "    transform = transforms.Compose([\n",
        "        transforms.Resize((84, 84)),\n",
        "        transforms.ToTensor(),\n",
        "        transforms.Normalize(mean=[0.485, 0.456, 0.406], std=[0.229, 0.224, 0.225])\n",
        "    ])\n",
        "\n",
        "    correct = 0\n",
        "    total = 0\n",
        "    all_test_pred_labels = []\n",
        "    all_test_true_labels = []\n",
        "\n",
        "    test_images = sorted(os.listdir(test_path))\n",
        "\n",
        "    for i in tqdm(range(0, len(test_images), test_batch_size), desc=\"Processing Test Images\"):\n",
        "        batch_files = test_images[i : i + test_batch_size]\n",
        "        batch_images = []\n",
        "        batch_labels = []\n",
        "\n",
        "        for image_name in batch_files:\n",
        "            image_path = os.path.join(test_path, image_name)\n",
        "\n",
        "            if not (image_name.endswith(\".png\") or image_name.endswith(\".jpg\") or image_name.endswith(\".jpeg\")):\n",
        "                continue\n",
        "\n",
        "            try:\n",
        "                image = Image.open(image_path).convert(\"RGB\")\n",
        "                image = transform(image)\n",
        "                batch_images.append(image)\n",
        "                batch_labels.append(test_labels.get(image_name, -1))\n",
        "            except Exception as e:\n",
        "                print(f\"Skipping invalid image {image_name}: {e}\")\n",
        "                continue\n",
        "\n",
        "        if not batch_images:\n",
        "            continue\n",
        "\n",
        "        batch_tensor = torch.stack(batch_images).to(device)\n",
        "        test_embeddings = model(batch_tensor)\n",
        "        distances = torch.cdist(test_embeddings, prototype_tensors, p=2)\n",
        "        predicted_classes = torch.argmin(distances, dim=1).cpu().numpy()\n",
        "        for pred, actual in zip(predicted_classes, batch_labels):\n",
        "            if actual != -1:\n",
        "                all_test_pred_labels.append(pred)\n",
        "                all_test_true_labels.append(actual)\n",
        "                if pred == actual:\n",
        "                    correct += 1\n",
        "                total += 1\n",
        "\n",
        "        del batch_tensor, test_embeddings, distances\n",
        "        torch.cuda.empty_cache()\n",
        "        gc.collect()\n",
        "\n",
        "    all_test_pred_labels.extend(predicted_classes)\n",
        "    all_test_true_labels.extend(batch_labels)\n",
        "\n",
        "    test_accuracy = (correct / total) * 100 if total > 0 else 0\n",
        "\n",
        "    precision = precision_score(all_test_true_labels, all_test_pred_labels, average='macro', zero_division=0)\n",
        "    recall = recall_score(all_test_true_labels, all_test_pred_labels, average='macro', zero_division=0)\n",
        "    f1 = f1_score(all_test_true_labels, all_test_pred_labels, average='macro', zero_division=0)\n",
        "    print(f\"Test Accuracy: {test_accuracy:.2f}%\")\n",
        "    print(f\"Test Precision: {precision:.4f}, Test Recall: {recall:.4f}, Test F1-score: {f1:.4f}\")\n",
        "\n",
        "    del support_embeddings, support_labels, prototype_tensors, model\n",
        "    torch.cuda.empty_cache()\n",
        "    gc.collect()\n",
        "    return test_accuracy, precision, recall, f1,all_test_true_labels, all_test_pred_labels\n",
        "\n"
      ]
    },
    {
      "cell_type": "code",
      "execution_count": 15,
      "metadata": {
        "colab": {
          "base_uri": "https://localhost:8080/"
        },
        "id": "0qkpatM1dFJH",
        "outputId": "6ba5ca1b-ba6f-4203-9a20-a6b3b176522f"
      },
      "outputs": [
        {
          "name": "stdout",
          "output_type": "stream",
          "text": [
            "Support set created with 39209 images from 43 classes (Processed in batches).\n"
          ]
        },
        {
          "name": "stderr",
          "output_type": "stream",
          "text": [
            "Processing Test Images: 100%|██████████| 127/127 [00:35<00:00,  3.55it/s]\n"
          ]
        },
        {
          "name": "stdout",
          "output_type": "stream",
          "text": [
            "Test Accuracy: 97.42%\n",
            "Test Precision: 0.9656, Test Recall: 0.9630, Test F1-score: 0.9633\n"
          ]
        }
      ],
      "source": [
        "\n",
        "train_path = \"/content/Train\"\n",
        "test_path = \"/content/Test\"\n",
        "test_csv = \"/content/Test.csv\"\n",
        "\n",
        "test_accuracy, precision, recall, f1, all_test_true_labels, all_test_pred_labels = evaluate_protonet(model, train_path, test_path, test_csv, device=\"cuda\")\n"
      ]
    },
    {
      "cell_type": "markdown",
      "metadata": {
        "id": "wb9Fu0zX-zk0"
      },
      "source": [
        "## CONFUSION MATRIX"
      ]
    },
    {
      "cell_type": "code",
      "execution_count": 16,
      "metadata": {
        "colab": {
          "base_uri": "https://localhost:8080/",
          "height": 520
        },
        "id": "MNSG6wU_dHNH",
        "outputId": "328b0d3e-728a-4e23-d9f7-14cfa571bcb3"
      },
      "outputs": [
        {
          "data": {
            "image/png": "[encoded data removed]",
            "text/plain": [
              "<Figure size 2000x1000 with 2 Axes>"
            ]
          },
          "metadata": {},
          "output_type": "display_data"
        }
      ],
      "source": [
        "import matplotlib.pyplot as plt\n",
        "import seaborn as sns\n",
        "from sklearn.metrics import confusion_matrix\n",
        "import numpy as np\n",
        "\n",
        "def plot_confusion_matrix(true_labels, pred_labels, class_names):\n",
        "    cm = confusion_matrix(true_labels, pred_labels)\n",
        "    plt.figure(figsize=(20, 10))\n",
        "    sns.heatmap(cm, annot=True, fmt=\"d\", cmap=\"Blues\", xticklabels=class_names, yticklabels=class_names)\n",
        "    plt.xlabel(\"Predicted Label\")\n",
        "    plt.ylabel(\"True Label\")\n",
        "    plt.title(\"Confusion Matrix\")\n",
        "    plt.show()\n",
        "\n",
        "plot_confusion_matrix(all_test_true_labels, all_test_pred_labels, class_names=[str(i) for i in range(43)])\n"
      ]
    },
    {
      "cell_type": "code",
      "execution_count": 13,
      "metadata": {},
      "outputs": [
        {
          "name": "stdout",
          "output_type": "stream",
          "text": [
            "Model loaded successfully!\n"
          ]
        }
      ],
      "source": [
        "device = torch.device(\"cuda\" if torch.cuda.is_available() else \"cpu\")\n",
        "\n",
        "# Initialize the model\n",
        "model = ProtoNet().to(device)\n",
        "\n",
        "# Load the saved weights\n",
        "model.load_state_dict(torch.load(r\"C:\\Users\\VINOTH RAJENDRAN\\Downloads\\protonet_model_CNN.pth\", map_location=device))\n",
        "\n",
        "# Set the model to evaluation mode\n",
        "model.eval()\n",
        "\n",
        "print(\"Model loaded successfully!\")\n"
      ]
    },
    {
      "cell_type": "code",
      "execution_count": 17,
      "metadata": {},
      "outputs": [
        {
          "name": "stdout",
          "output_type": "stream",
          "text": [
            "Support set created with 39209 images from 43 classes.\n"
          ]
        },
        {
          "name": "stderr",
          "output_type": "stream",
          "text": [
            "Processing Test Images: 100%|██████████| 127/127 [01:45<00:00,  1.20it/s]\n"
          ]
        },
        {
          "name": "stdout",
          "output_type": "stream",
          "text": [
            "Test Accuracy: 97.42%\n",
            "Precision: 0.9656, Recall: 0.9631, F1-score: 0.9634\n"
          ]
        },
        {
          "ename": "AssertionError",
          "evalue": "Torch not compiled with CUDA enabled",
          "output_type": "error",
          "traceback": [
            "\u001b[1;31m---------------------------------------------------------------------------\u001b[0m",
            "\u001b[1;31mAssertionError\u001b[0m                            Traceback (most recent call last)",
            "Cell \u001b[1;32mIn[17], line 214\u001b[0m\n\u001b[0;32m    211\u001b[0m test_accuracy, precision, recall, f1, all_test_true_labels, all_test_pred_labels \u001b[38;5;241m=\u001b[39m evaluate_protonet(model, train_path, test_path, test_csv, device\u001b[38;5;241m=\u001b[39m\u001b[38;5;124m\"\u001b[39m\u001b[38;5;124mcuda\u001b[39m\u001b[38;5;124m\"\u001b[39m)\n\u001b[0;32m    213\u001b[0m \u001b[38;5;66;03m# Classify a new image\u001b[39;00m\n\u001b[1;32m--> 214\u001b[0m predicted_class \u001b[38;5;241m=\u001b[39m \u001b[43mclassify_new_image\u001b[49m\u001b[43m(\u001b[49m\u001b[43mmodel\u001b[49m\u001b[43m,\u001b[49m\u001b[43m \u001b[49m\u001b[43mtrain_path\u001b[49m\u001b[43m,\u001b[49m\u001b[43m \u001b[49m\u001b[43mimage_path\u001b[49m\u001b[43m)\u001b[49m\n\u001b[0;32m    215\u001b[0m \u001b[38;5;28mprint\u001b[39m(\u001b[38;5;124mf\u001b[39m\u001b[38;5;124m\"\u001b[39m\u001b[38;5;124mThe new image belongs to class: \u001b[39m\u001b[38;5;132;01m{\u001b[39;00mpredicted_class\u001b[38;5;132;01m}\u001b[39;00m\u001b[38;5;124m\"\u001b[39m)\n",
            "Cell \u001b[1;32mIn[17], line 169\u001b[0m, in \u001b[0;36mclassify_new_image\u001b[1;34m(model, train_path, image_path, device)\u001b[0m\n\u001b[0;32m    167\u001b[0m \u001b[38;5;28;01mdef\u001b[39;00m \u001b[38;5;21mclassify_new_image\u001b[39m(model, train_path, image_path, device\u001b[38;5;241m=\u001b[39m\u001b[38;5;124m\"\u001b[39m\u001b[38;5;124mcuda\u001b[39m\u001b[38;5;124m\"\u001b[39m):\n\u001b[0;32m    168\u001b[0m     model\u001b[38;5;241m.\u001b[39meval()\n\u001b[1;32m--> 169\u001b[0m     \u001b[43mmodel\u001b[49m\u001b[38;5;241;43m.\u001b[39;49m\u001b[43mto\u001b[49m\u001b[43m(\u001b[49m\u001b[43mdevice\u001b[49m\u001b[43m)\u001b[49m\n\u001b[0;32m    171\u001b[0m     support_embeddings, support_labels \u001b[38;5;241m=\u001b[39m create_support_set(train_path, batch_size\u001b[38;5;241m=\u001b[39m\u001b[38;5;241m500\u001b[39m, device\u001b[38;5;241m=\u001b[39mdevice)\n\u001b[0;32m    172\u001b[0m     unique_labels \u001b[38;5;241m=\u001b[39m torch\u001b[38;5;241m.\u001b[39munique(support_labels)\n",
            "File \u001b[1;32mc:\\Users\\VINOTH RAJENDRAN\\AppData\\Local\\Programs\\Python\\Python312\\Lib\\site-packages\\torch\\nn\\modules\\module.py:1173\u001b[0m, in \u001b[0;36mModule.to\u001b[1;34m(self, *args, **kwargs)\u001b[0m\n\u001b[0;32m   1170\u001b[0m         \u001b[38;5;28;01melse\u001b[39;00m:\n\u001b[0;32m   1171\u001b[0m             \u001b[38;5;28;01mraise\u001b[39;00m\n\u001b[1;32m-> 1173\u001b[0m \u001b[38;5;28;01mreturn\u001b[39;00m \u001b[38;5;28;43mself\u001b[39;49m\u001b[38;5;241;43m.\u001b[39;49m\u001b[43m_apply\u001b[49m\u001b[43m(\u001b[49m\u001b[43mconvert\u001b[49m\u001b[43m)\u001b[49m\n",
            "File \u001b[1;32mc:\\Users\\VINOTH RAJENDRAN\\AppData\\Local\\Programs\\Python\\Python312\\Lib\\site-packages\\torch\\nn\\modules\\module.py:779\u001b[0m, in \u001b[0;36mModule._apply\u001b[1;34m(self, fn, recurse)\u001b[0m\n\u001b[0;32m    777\u001b[0m \u001b[38;5;28;01mif\u001b[39;00m recurse:\n\u001b[0;32m    778\u001b[0m     \u001b[38;5;28;01mfor\u001b[39;00m module \u001b[38;5;129;01min\u001b[39;00m \u001b[38;5;28mself\u001b[39m\u001b[38;5;241m.\u001b[39mchildren():\n\u001b[1;32m--> 779\u001b[0m         \u001b[43mmodule\u001b[49m\u001b[38;5;241;43m.\u001b[39;49m\u001b[43m_apply\u001b[49m\u001b[43m(\u001b[49m\u001b[43mfn\u001b[49m\u001b[43m)\u001b[49m\n\u001b[0;32m    781\u001b[0m \u001b[38;5;28;01mdef\u001b[39;00m \u001b[38;5;21mcompute_should_use_set_data\u001b[39m(tensor, tensor_applied):\n\u001b[0;32m    782\u001b[0m     \u001b[38;5;28;01mif\u001b[39;00m torch\u001b[38;5;241m.\u001b[39m_has_compatible_shallow_copy_type(tensor, tensor_applied):\n\u001b[0;32m    783\u001b[0m         \u001b[38;5;66;03m# If the new tensor has compatible tensor type as the existing tensor,\u001b[39;00m\n\u001b[0;32m    784\u001b[0m         \u001b[38;5;66;03m# the current behavior is to change the tensor in-place using `.data =`,\u001b[39;00m\n\u001b[1;32m   (...)\u001b[0m\n\u001b[0;32m    789\u001b[0m         \u001b[38;5;66;03m# global flag to let the user control whether they want the future\u001b[39;00m\n\u001b[0;32m    790\u001b[0m         \u001b[38;5;66;03m# behavior of overwriting the existing tensor or not.\u001b[39;00m\n",
            "File \u001b[1;32mc:\\Users\\VINOTH RAJENDRAN\\AppData\\Local\\Programs\\Python\\Python312\\Lib\\site-packages\\torch\\nn\\modules\\module.py:779\u001b[0m, in \u001b[0;36mModule._apply\u001b[1;34m(self, fn, recurse)\u001b[0m\n\u001b[0;32m    777\u001b[0m \u001b[38;5;28;01mif\u001b[39;00m recurse:\n\u001b[0;32m    778\u001b[0m     \u001b[38;5;28;01mfor\u001b[39;00m module \u001b[38;5;129;01min\u001b[39;00m \u001b[38;5;28mself\u001b[39m\u001b[38;5;241m.\u001b[39mchildren():\n\u001b[1;32m--> 779\u001b[0m         \u001b[43mmodule\u001b[49m\u001b[38;5;241;43m.\u001b[39;49m\u001b[43m_apply\u001b[49m\u001b[43m(\u001b[49m\u001b[43mfn\u001b[49m\u001b[43m)\u001b[49m\n\u001b[0;32m    781\u001b[0m \u001b[38;5;28;01mdef\u001b[39;00m \u001b[38;5;21mcompute_should_use_set_data\u001b[39m(tensor, tensor_applied):\n\u001b[0;32m    782\u001b[0m     \u001b[38;5;28;01mif\u001b[39;00m torch\u001b[38;5;241m.\u001b[39m_has_compatible_shallow_copy_type(tensor, tensor_applied):\n\u001b[0;32m    783\u001b[0m         \u001b[38;5;66;03m# If the new tensor has compatible tensor type as the existing tensor,\u001b[39;00m\n\u001b[0;32m    784\u001b[0m         \u001b[38;5;66;03m# the current behavior is to change the tensor in-place using `.data =`,\u001b[39;00m\n\u001b[1;32m   (...)\u001b[0m\n\u001b[0;32m    789\u001b[0m         \u001b[38;5;66;03m# global flag to let the user control whether they want the future\u001b[39;00m\n\u001b[0;32m    790\u001b[0m         \u001b[38;5;66;03m# behavior of overwriting the existing tensor or not.\u001b[39;00m\n",
            "File \u001b[1;32mc:\\Users\\VINOTH RAJENDRAN\\AppData\\Local\\Programs\\Python\\Python312\\Lib\\site-packages\\torch\\nn\\modules\\module.py:804\u001b[0m, in \u001b[0;36mModule._apply\u001b[1;34m(self, fn, recurse)\u001b[0m\n\u001b[0;32m    800\u001b[0m \u001b[38;5;66;03m# Tensors stored in modules are graph leaves, and we don't want to\u001b[39;00m\n\u001b[0;32m    801\u001b[0m \u001b[38;5;66;03m# track autograd history of `param_applied`, so we have to use\u001b[39;00m\n\u001b[0;32m    802\u001b[0m \u001b[38;5;66;03m# `with torch.no_grad():`\u001b[39;00m\n\u001b[0;32m    803\u001b[0m \u001b[38;5;28;01mwith\u001b[39;00m torch\u001b[38;5;241m.\u001b[39mno_grad():\n\u001b[1;32m--> 804\u001b[0m     param_applied \u001b[38;5;241m=\u001b[39m \u001b[43mfn\u001b[49m\u001b[43m(\u001b[49m\u001b[43mparam\u001b[49m\u001b[43m)\u001b[49m\n\u001b[0;32m    805\u001b[0m p_should_use_set_data \u001b[38;5;241m=\u001b[39m compute_should_use_set_data(param, param_applied)\n\u001b[0;32m    807\u001b[0m \u001b[38;5;66;03m# subclasses may have multiple child tensors so we need to use swap_tensors\u001b[39;00m\n",
            "File \u001b[1;32mc:\\Users\\VINOTH RAJENDRAN\\AppData\\Local\\Programs\\Python\\Python312\\Lib\\site-packages\\torch\\nn\\modules\\module.py:1159\u001b[0m, in \u001b[0;36mModule.to.<locals>.convert\u001b[1;34m(t)\u001b[0m\n\u001b[0;32m   1152\u001b[0m     \u001b[38;5;28;01mif\u001b[39;00m convert_to_format \u001b[38;5;129;01mis\u001b[39;00m \u001b[38;5;129;01mnot\u001b[39;00m \u001b[38;5;28;01mNone\u001b[39;00m \u001b[38;5;129;01mand\u001b[39;00m t\u001b[38;5;241m.\u001b[39mdim() \u001b[38;5;129;01min\u001b[39;00m (\u001b[38;5;241m4\u001b[39m, \u001b[38;5;241m5\u001b[39m):\n\u001b[0;32m   1153\u001b[0m         \u001b[38;5;28;01mreturn\u001b[39;00m t\u001b[38;5;241m.\u001b[39mto(\n\u001b[0;32m   1154\u001b[0m             device,\n\u001b[0;32m   1155\u001b[0m             dtype \u001b[38;5;28;01mif\u001b[39;00m t\u001b[38;5;241m.\u001b[39mis_floating_point() \u001b[38;5;129;01mor\u001b[39;00m t\u001b[38;5;241m.\u001b[39mis_complex() \u001b[38;5;28;01melse\u001b[39;00m \u001b[38;5;28;01mNone\u001b[39;00m,\n\u001b[0;32m   1156\u001b[0m             non_blocking,\n\u001b[0;32m   1157\u001b[0m             memory_format\u001b[38;5;241m=\u001b[39mconvert_to_format,\n\u001b[0;32m   1158\u001b[0m         )\n\u001b[1;32m-> 1159\u001b[0m     \u001b[38;5;28;01mreturn\u001b[39;00m \u001b[43mt\u001b[49m\u001b[38;5;241;43m.\u001b[39;49m\u001b[43mto\u001b[49m\u001b[43m(\u001b[49m\n\u001b[0;32m   1160\u001b[0m \u001b[43m        \u001b[49m\u001b[43mdevice\u001b[49m\u001b[43m,\u001b[49m\n\u001b[0;32m   1161\u001b[0m \u001b[43m        \u001b[49m\u001b[43mdtype\u001b[49m\u001b[43m \u001b[49m\u001b[38;5;28;43;01mif\u001b[39;49;00m\u001b[43m \u001b[49m\u001b[43mt\u001b[49m\u001b[38;5;241;43m.\u001b[39;49m\u001b[43mis_floating_point\u001b[49m\u001b[43m(\u001b[49m\u001b[43m)\u001b[49m\u001b[43m \u001b[49m\u001b[38;5;129;43;01mor\u001b[39;49;00m\u001b[43m \u001b[49m\u001b[43mt\u001b[49m\u001b[38;5;241;43m.\u001b[39;49m\u001b[43mis_complex\u001b[49m\u001b[43m(\u001b[49m\u001b[43m)\u001b[49m\u001b[43m \u001b[49m\u001b[38;5;28;43;01melse\u001b[39;49;00m\u001b[43m \u001b[49m\u001b[38;5;28;43;01mNone\u001b[39;49;00m\u001b[43m,\u001b[49m\n\u001b[0;32m   1162\u001b[0m \u001b[43m        \u001b[49m\u001b[43mnon_blocking\u001b[49m\u001b[43m,\u001b[49m\n\u001b[0;32m   1163\u001b[0m \u001b[43m    \u001b[49m\u001b[43m)\u001b[49m\n\u001b[0;32m   1164\u001b[0m \u001b[38;5;28;01mexcept\u001b[39;00m \u001b[38;5;167;01mNotImplementedError\u001b[39;00m \u001b[38;5;28;01mas\u001b[39;00m e:\n\u001b[0;32m   1165\u001b[0m     \u001b[38;5;28;01mif\u001b[39;00m \u001b[38;5;28mstr\u001b[39m(e) \u001b[38;5;241m==\u001b[39m \u001b[38;5;124m\"\u001b[39m\u001b[38;5;124mCannot copy out of meta tensor; no data!\u001b[39m\u001b[38;5;124m\"\u001b[39m:\n",
            "File \u001b[1;32mc:\\Users\\VINOTH RAJENDRAN\\AppData\\Local\\Programs\\Python\\Python312\\Lib\\site-packages\\torch\\cuda\\__init__.py:284\u001b[0m, in \u001b[0;36m_lazy_init\u001b[1;34m()\u001b[0m\n\u001b[0;32m    279\u001b[0m     \u001b[38;5;28;01mraise\u001b[39;00m \u001b[38;5;167;01mRuntimeError\u001b[39;00m(\n\u001b[0;32m    280\u001b[0m         \u001b[38;5;124m\"\u001b[39m\u001b[38;5;124mCannot re-initialize CUDA in forked subprocess. To use CUDA with \u001b[39m\u001b[38;5;124m\"\u001b[39m\n\u001b[0;32m    281\u001b[0m         \u001b[38;5;124m\"\u001b[39m\u001b[38;5;124mmultiprocessing, you must use the \u001b[39m\u001b[38;5;124m'\u001b[39m\u001b[38;5;124mspawn\u001b[39m\u001b[38;5;124m'\u001b[39m\u001b[38;5;124m start method\u001b[39m\u001b[38;5;124m\"\u001b[39m\n\u001b[0;32m    282\u001b[0m     )\n\u001b[0;32m    283\u001b[0m \u001b[38;5;28;01mif\u001b[39;00m \u001b[38;5;129;01mnot\u001b[39;00m \u001b[38;5;28mhasattr\u001b[39m(torch\u001b[38;5;241m.\u001b[39m_C, \u001b[38;5;124m\"\u001b[39m\u001b[38;5;124m_cuda_getDeviceCount\u001b[39m\u001b[38;5;124m\"\u001b[39m):\n\u001b[1;32m--> 284\u001b[0m     \u001b[38;5;28;01mraise\u001b[39;00m \u001b[38;5;167;01mAssertionError\u001b[39;00m(\u001b[38;5;124m\"\u001b[39m\u001b[38;5;124mTorch not compiled with CUDA enabled\u001b[39m\u001b[38;5;124m\"\u001b[39m)\n\u001b[0;32m    285\u001b[0m \u001b[38;5;28;01mif\u001b[39;00m _cudart \u001b[38;5;129;01mis\u001b[39;00m \u001b[38;5;28;01mNone\u001b[39;00m:\n\u001b[0;32m    286\u001b[0m     \u001b[38;5;28;01mraise\u001b[39;00m \u001b[38;5;167;01mAssertionError\u001b[39;00m(\n\u001b[0;32m    287\u001b[0m         \u001b[38;5;124m\"\u001b[39m\u001b[38;5;124mlibcudart functions unavailable. It looks like you have a broken build?\u001b[39m\u001b[38;5;124m\"\u001b[39m\n\u001b[0;32m    288\u001b[0m     )\n",
            "\u001b[1;31mAssertionError\u001b[0m: Torch not compiled with CUDA enabled"
          ]
        }
      ],
      "source": [
        "import torch\n",
        "import os\n",
        "import pandas as pd\n",
        "import random\n",
        "from PIL import Image\n",
        "from torchvision import transforms\n",
        "import gc\n",
        "from tqdm import tqdm\n",
        "from sklearn.metrics import precision_score, recall_score, f1_score\n",
        "\n",
        "def load_test_labels(csv_path):\n",
        "    df = pd.read_csv(csv_path)\n",
        "    label_map = {row[\"Path\"].split(\"/\")[-1]: row[\"ClassId\"] for _, row in df.iterrows()}\n",
        "    return label_map\n",
        "\n",
        "def create_support_set(train_path, batch_size=500, image_size=84, device=\"cuda\", seed=42):\n",
        "    random.seed(seed)\n",
        "    torch.manual_seed(seed)\n",
        "\n",
        "    transform = transforms.Compose([\n",
        "        transforms.Resize((image_size, image_size)),\n",
        "        transforms.ToTensor(),\n",
        "        transforms.Normalize(mean=[0.485, 0.456, 0.406], std=[0.229, 0.224, 0.225])\n",
        "    ])\n",
        "\n",
        "    support_embeddings = []\n",
        "    support_labels = []\n",
        "\n",
        "    class_folders = sorted(os.listdir(train_path))\n",
        "    total_images = 0\n",
        "\n",
        "    for class_folder in class_folders:\n",
        "        class_path = os.path.join(train_path, class_folder)\n",
        "        if not os.path.isdir(class_path):\n",
        "            continue\n",
        "\n",
        "        image_files = [f for f in os.listdir(class_path) if f.endswith(('.png', '.jpg', '.jpeg'))]\n",
        "        batch = []\n",
        "        batch_labels = []\n",
        "\n",
        "        for img_name in image_files:\n",
        "            img_path = os.path.join(class_path, img_name)\n",
        "            image = Image.open(img_path).convert(\"RGB\")\n",
        "            image = transform(image).to(device)\n",
        "            batch.append(image)\n",
        "            batch_labels.append(int(class_folder))\n",
        "\n",
        "            if len(batch) == batch_size:\n",
        "                batch_tensor = torch.stack(batch).to(device)\n",
        "                batch_labels_tensor = torch.tensor(batch_labels, device=device)\n",
        "\n",
        "                with torch.no_grad():\n",
        "                    batch_embeddings = model(batch_tensor).cpu()\n",
        "\n",
        "                support_embeddings.append(batch_embeddings)\n",
        "                support_labels.append(batch_labels_tensor.cpu())\n",
        "\n",
        "                del batch_tensor, batch_labels_tensor, batch_embeddings\n",
        "                torch.cuda.empty_cache()\n",
        "                gc.collect()\n",
        "                batch = []\n",
        "                batch_labels = []\n",
        "\n",
        "        if batch:\n",
        "            batch_tensor = torch.stack(batch).to(device)\n",
        "            batch_labels_tensor = torch.tensor(batch_labels, device=device)\n",
        "\n",
        "            with torch.no_grad():\n",
        "                batch_embeddings = model(batch_tensor).cpu()\n",
        "\n",
        "            support_embeddings.append(batch_embeddings)\n",
        "            support_labels.append(batch_labels_tensor.cpu())\n",
        "\n",
        "            del batch_tensor, batch_labels_tensor, batch_embeddings\n",
        "            torch.cuda.empty_cache()\n",
        "            gc.collect()\n",
        "\n",
        "        total_images += len(image_files)\n",
        "\n",
        "    support_embeddings = torch.cat(support_embeddings, dim=0)\n",
        "    support_labels = torch.cat(support_labels, dim=0)\n",
        "\n",
        "    print(f\"Support set created with {total_images} images from {len(torch.unique(support_labels))} classes.\")\n",
        "    return support_embeddings, support_labels\n",
        "\n",
        "\n",
        "def evaluate_protonet(model, train_path, test_path, test_csv, device=None, test_batch_size=100):\n",
        "    device = torch.device(\"cpu\")  # Force CPU\n",
        "\n",
        "\n",
        "    model.eval()\n",
        "    model.to(device)\n",
        "\n",
        "    all_test_true_labels = []\n",
        "    all_test_pred_labels = []\n",
        "\n",
        "    support_embeddings, support_labels = create_support_set(train_path, batch_size=500, device=device)\n",
        "    unique_labels = torch.unique(support_labels)\n",
        "    class_prototypes = {lbl.item(): support_embeddings[support_labels == lbl].mean(0).cpu() for lbl in unique_labels}\n",
        "    prototype_tensors = torch.stack([class_prototypes[lbl] for lbl in sorted(class_prototypes.keys())]).to(device)\n",
        "\n",
        "    test_labels = load_test_labels(test_csv)\n",
        "\n",
        "    transform = transforms.Compose([\n",
        "        transforms.Resize((84, 84)),\n",
        "        transforms.ToTensor(),\n",
        "        transforms.Normalize(mean=[0.485, 0.456, 0.406], std=[0.229, 0.224, 0.225])\n",
        "    ])\n",
        "\n",
        "    correct = 0\n",
        "    total = 0\n",
        "    test_images = sorted(os.listdir(test_path))\n",
        "\n",
        "    for i in tqdm(range(0, len(test_images), test_batch_size), desc=\"Processing Test Images\"):\n",
        "        batch_files = test_images[i: i + test_batch_size]\n",
        "        batch_images = []\n",
        "        batch_labels = []\n",
        "\n",
        "        for image_name in batch_files:\n",
        "            image_path = os.path.join(test_path, image_name)\n",
        "            if not (image_name.endswith(\".png\") or image_name.endswith(\".jpg\") or image_name.endswith(\".jpeg\")):\n",
        "                continue\n",
        "\n",
        "            try:\n",
        "                image = Image.open(image_path).convert(\"RGB\")\n",
        "                image = transform(image)\n",
        "                batch_images.append(image)\n",
        "                batch_labels.append(test_labels.get(image_name, -1))\n",
        "            except Exception as e:\n",
        "                print(f\"Skipping invalid image {image_name}: {e}\")\n",
        "                continue\n",
        "\n",
        "        if not batch_images:\n",
        "            continue\n",
        "\n",
        "        batch_tensor = torch.stack(batch_images).to(device)\n",
        "        test_embeddings = model(batch_tensor)\n",
        "        distances = torch.cdist(test_embeddings, prototype_tensors, p=2)\n",
        "        predicted_classes = torch.argmin(distances, dim=1).cpu().numpy()\n",
        "\n",
        "        for pred, actual in zip(predicted_classes, batch_labels):\n",
        "            if actual != -1:\n",
        "                all_test_pred_labels.append(pred)\n",
        "                all_test_true_labels.append(actual)\n",
        "                if pred == actual:\n",
        "                    correct += 1\n",
        "                total += 1\n",
        "\n",
        "        del batch_tensor, test_embeddings, distances\n",
        "        torch.cuda.empty_cache()\n",
        "        gc.collect()\n",
        "\n",
        "    test_accuracy = (correct / total) * 100 if total > 0 else 0\n",
        "    precision = precision_score(all_test_true_labels, all_test_pred_labels, average='macro', zero_division=0)\n",
        "    recall = recall_score(all_test_true_labels, all_test_pred_labels, average='macro', zero_division=0)\n",
        "    f1 = f1_score(all_test_true_labels, all_test_pred_labels, average='macro', zero_division=0)\n",
        "\n",
        "    print(f\"Test Accuracy: {test_accuracy:.2f}%\")\n",
        "    print(f\"Precision: {precision:.4f}, Recall: {recall:.4f}, F1-score: {f1:.4f}\")\n",
        "\n",
        "    del support_embeddings, support_labels, prototype_tensors, model\n",
        "    torch.cuda.empty_cache()\n",
        "    gc.collect()\n",
        "\n",
        "    return test_accuracy, precision, recall, f1, all_test_true_labels, all_test_pred_labels\n",
        "\n",
        "def classify_new_image(model, train_path, image_path, device=\"cuda\"):\n",
        "    model.eval()\n",
        "    model.to(device)\n",
        "\n",
        "    support_embeddings, support_labels = create_support_set(train_path, batch_size=500, device=device)\n",
        "    unique_labels = torch.unique(support_labels)\n",
        "    class_prototypes = {lbl.item(): support_embeddings[support_labels == lbl].mean(0).cpu() for lbl in unique_labels}\n",
        "    prototype_tensors = torch.stack([class_prototypes[lbl] for lbl in sorted(class_prototypes.keys())]).to(device)\n",
        "\n",
        "    transform = transforms.Compose([\n",
        "        transforms.Resize((84, 84)),\n",
        "        transforms.ToTensor(),\n",
        "        transforms.Normalize(mean=[0.485, 0.456, 0.406], std=[0.229, 0.224, 0.225])\n",
        "    ])\n",
        "\n",
        "    try:\n",
        "        image = Image.open(image_path).convert(\"RGB\")\n",
        "        image = transform(image).unsqueeze(0).to(device)\n",
        "    except Exception as e:\n",
        "        print(f\"Error loading image: {e}\")\n",
        "        return None\n",
        "\n",
        "    with torch.no_grad():\n",
        "        image_embedding = model(image)\n",
        "\n",
        "    distances = torch.cdist(image_embedding, prototype_tensors, p=2)\n",
        "    predicted_class = torch.argmin(distances, dim=1).item()\n",
        "\n",
        "    print(f\"Predicted Class: {predicted_class}\")\n",
        "\n",
        "    del support_embeddings, support_labels, prototype_tensors, image_embedding\n",
        "    torch.cuda.empty_cache()\n",
        "    gc.collect()\n",
        "\n",
        "    return predicted_class\n",
        "\n",
        "# Example usage:\n",
        "# model = load_your_model()  # Load your trained model\n",
        "train_path = \"/content/Train\"\n",
        "test_path = \"/content/Test\"\n",
        "test_csv = \"/content/Test.csv\"\n",
        "image_path = \"D:/Satvik/IOT/Project/image_1743074312.jpg\"\n",
        "\n",
        "# Evaluate the model\n",
        "test_accuracy, precision, recall, f1, all_test_true_labels, all_test_pred_labels = evaluate_protonet(model, train_path, test_path, test_csv, device=\"cuda\")\n",
        "\n",
        "# Classify a new image\n",
        "predicted_class = classify_new_image(model, train_path, image_path)\n",
        "print(f\"The new image belongs to class: {predicted_class}\")\n"
      ]
    },
    {
      "cell_type": "markdown",
      "metadata": {
        "id": "s6d1xzY0iI7a"
      },
      "source": [
        "## LOAD INDIAN TRAFFIC DATASET"
      ]
    },
    {
      "cell_type": "code",
      "execution_count": 17,
      "metadata": {
        "colab": {
          "base_uri": "https://localhost:8080/"
        },
        "id": "3urXkljuihun",
        "outputId": "7441bdbb-1b42-49fa-fb5c-a51860b39c16"
      },
      "outputs": [
        {
          "name": "stdout",
          "output_type": "stream",
          "text": [
            "Downloading from https://www.kaggle.com/api/v1/datasets/download/sarangdilipjodh/indian-traffic-signs-prediction85-classes?dataset_version_number=1...\n"
          ]
        },
        {
          "name": "stderr",
          "output_type": "stream",
          "text": [
            "100%|██████████| 1.13G/1.13G [00:18<00:00, 64.0MB/s]"
          ]
        },
        {
          "name": "stdout",
          "output_type": "stream",
          "text": [
            "Extracting files...\n"
          ]
        },
        {
          "name": "stderr",
          "output_type": "stream",
          "text": [
            "\n"
          ]
        },
        {
          "name": "stdout",
          "output_type": "stream",
          "text": [
            "Path to dataset files: /root/.cache/kagglehub/datasets/sarangdilipjodh/indian-traffic-signs-prediction85-classes/versions/1\n"
          ]
        }
      ],
      "source": [
        "import kagglehub\n",
        "\n",
        "# Download latest version\n",
        "path = kagglehub.dataset_download(\"sarangdilipjodh/indian-traffic-signs-prediction85-classes\")\n",
        "\n",
        "print(\"Path to dataset files:\", path)"
      ]
    },
    {
      "cell_type": "code",
      "execution_count": 18,
      "metadata": {
        "colab": {
          "base_uri": "https://localhost:8080/"
        },
        "id": "CMLObKibimgS",
        "outputId": "17b09c01-2acb-4129-f3a9-982c8a5d743c"
      },
      "outputs": [
        {
          "name": "stdout",
          "output_type": "stream",
          "text": [
            "Datasets copied to Colab workspace.\n"
          ]
        }
      ],
      "source": [
        "import shutil\n",
        "\n",
        "colab_path = \"/content\"\n",
        "shutil.copytree(path, colab_path, dirs_exist_ok=True)\n",
        "\n",
        "print(\"Datasets copied to Colab workspace.\")\n"
      ]
    },
    {
      "cell_type": "markdown",
      "metadata": {
        "id": "VLCvyB5rjFrW"
      },
      "source": [
        "## MOVE CATTLE IMAGES TO CONTENT DIRECTORY"
      ]
    },
    {
      "cell_type": "code",
      "execution_count": 19,
      "metadata": {
        "colab": {
          "base_uri": "https://localhost:8080/"
        },
        "id": "JTbsMpx0jLHn",
        "outputId": "78f1dbf6-6168-4154-f412-518a18416ef0"
      },
      "outputs": [
        {
          "name": "stdout",
          "output_type": "stream",
          "text": [
            "✅ Moved CATTLE train images to /content/CATTLE_train\n",
            "✅ Moved CATTLE test images to /content/CATTLE_test\n"
          ]
        }
      ],
      "source": [
        "import shutil\n",
        "import os\n",
        "\n",
        "train_cattle_src = \"/content/traffic_sign_classification_dataset/train/CATTLE\"\n",
        "test_cattle_src = \"/content/traffic_sign_classification_dataset/test/CATTLE\"\n",
        "\n",
        "train_cattle_dest = \"/content/CATTLE_train\"\n",
        "test_cattle_dest = \"/content/CATTLE_test\"\n",
        "\n",
        "os.makedirs(train_cattle_dest, exist_ok=True)\n",
        "os.makedirs(test_cattle_dest, exist_ok=True)\n",
        "\n",
        "shutil.move(train_cattle_src, train_cattle_dest)\n",
        "\n",
        "shutil.move(test_cattle_src, test_cattle_dest)\n",
        "\n",
        "print(f\"✅ Moved CATTLE train images to {train_cattle_dest}\")\n",
        "print(f\"✅ Moved CATTLE test images to {test_cattle_dest}\")\n"
      ]
    },
    {
      "cell_type": "markdown",
      "metadata": {
        "id": "nNItrT8RjSYV"
      },
      "source": [
        "## TEST MODEL WITH NEW CLASS"
      ]
    },
    {
      "cell_type": "code",
      "execution_count": 20,
      "metadata": {
        "id": "QA8EcsHDfiXo"
      },
      "outputs": [],
      "source": [
        "import torch\n",
        "import os\n",
        "import random\n",
        "import gc\n",
        "from PIL import Image\n",
        "from torchvision import transforms\n",
        "\n",
        "def create_support_set(train_path, cattle_path, batch_size=500, image_size=84, device=\"cuda\", seed=42):\n",
        "    random.seed(seed)\n",
        "    torch.manual_seed(seed)\n",
        "\n",
        "    transform = transforms.Compose([\n",
        "        transforms.Resize((image_size, image_size)),\n",
        "        transforms.ToTensor(),\n",
        "        transforms.Normalize(mean=[0.485, 0.456, 0.406], std=[0.229, 0.224, 0.225])\n",
        "    ])\n",
        "\n",
        "    support_embeddings = []\n",
        "    support_labels = []\n",
        "    class_folders = sorted(os.listdir(train_path))\n",
        "    total_images = 0\n",
        "\n",
        "    for class_folder in class_folders:\n",
        "        class_path = os.path.join(train_path, class_folder)\n",
        "\n",
        "        if not os.path.isdir(class_path):\n",
        "            continue\n",
        "\n",
        "        image_files = [f for f in os.listdir(class_path) if f.endswith(('.png', '.jpg', '.jpeg'))]\n",
        "\n",
        "        batch = []\n",
        "        batch_labels = []\n",
        "\n",
        "        for img_name in image_files:\n",
        "            img_path = os.path.join(class_path, img_name)\n",
        "            image = Image.open(img_path).convert(\"RGB\")\n",
        "            image = transform(image).to(device)\n",
        "            batch.append(image)\n",
        "            batch_labels.append(int(class_folder))\n",
        "\n",
        "            if len(batch) == batch_size:\n",
        "                batch_tensor = torch.stack(batch).to(device)\n",
        "                batch_labels_tensor = torch.tensor(batch_labels, device=device)\n",
        "\n",
        "                with torch.no_grad():\n",
        "                    batch_embeddings = model(batch_tensor).cpu()\n",
        "\n",
        "                support_embeddings.append(batch_embeddings)\n",
        "                support_labels.append(batch_labels_tensor.cpu())\n",
        "\n",
        "                del batch_tensor, batch_labels_tensor, batch_embeddings\n",
        "                torch.cuda.empty_cache()\n",
        "                gc.collect()\n",
        "\n",
        "                batch = []\n",
        "                batch_labels = []\n",
        "\n",
        "        if batch:\n",
        "            batch_tensor = torch.stack(batch).to(device)\n",
        "            batch_labels_tensor = torch.tensor(batch_labels, device=device)\n",
        "\n",
        "            with torch.no_grad():\n",
        "                batch_embeddings = model(batch_tensor).cpu()\n",
        "\n",
        "            support_embeddings.append(batch_embeddings)\n",
        "            support_labels.append(batch_labels_tensor.cpu())\n",
        "\n",
        "            del batch_tensor, batch_labels_tensor, batch_embeddings\n",
        "            torch.cuda.empty_cache()\n",
        "            gc.collect()\n",
        "\n",
        "        total_images += len(image_files)\n",
        "\n",
        "    print(\"🔍 Adding CATTLE images as class 43...\")\n",
        "\n",
        "    cattle_images = [f for f in os.listdir(cattle_path) if f.endswith(('.png', '.jpg', '.jpeg'))]\n",
        "\n",
        "    batch = []\n",
        "    batch_labels = []\n",
        "    for img_name in cattle_images:\n",
        "        img_path = os.path.join(cattle_path, img_name)\n",
        "        image = Image.open(img_path).convert(\"RGB\")\n",
        "        image = transform(image).to(device)\n",
        "        batch.append(image)\n",
        "        batch_labels.append(43)\n",
        "\n",
        "        if len(batch) == batch_size:\n",
        "            batch_tensor = torch.stack(batch).to(device)\n",
        "            batch_labels_tensor = torch.tensor(batch_labels, device=device)\n",
        "\n",
        "            with torch.no_grad():\n",
        "                batch_embeddings = model(batch_tensor).cpu()\n",
        "\n",
        "            support_embeddings.append(batch_embeddings)\n",
        "            support_labels.append(batch_labels_tensor.cpu())\n",
        "\n",
        "            del batch_tensor, batch_labels_tensor, batch_embeddings\n",
        "            torch.cuda.empty_cache()\n",
        "            gc.collect()\n",
        "\n",
        "            batch = []\n",
        "            batch_labels = []\n",
        "\n",
        "    if batch:\n",
        "        batch_tensor = torch.stack(batch).to(device)\n",
        "        batch_labels_tensor = torch.tensor(batch_labels, device=device)\n",
        "\n",
        "        with torch.no_grad():\n",
        "            batch_embeddings = model(batch_tensor).cpu()\n",
        "\n",
        "        support_embeddings.append(batch_embeddings)\n",
        "        support_labels.append(batch_labels_tensor.cpu())\n",
        "\n",
        "        del batch_tensor, batch_labels_tensor, batch_embeddings\n",
        "        torch.cuda.empty_cache()\n",
        "        gc.collect()\n",
        "\n",
        "    total_images += len(cattle_images)\n",
        "\n",
        "    support_embeddings = torch.cat(support_embeddings, dim=0)\n",
        "    support_labels = torch.cat(support_labels, dim=0)\n",
        "\n",
        "    print(f\"Support set created with {total_images} images from {len(torch.unique(support_labels))} classes (Processed in batches).\")\n",
        "    return support_embeddings, support_labels\n"
      ]
    },
    {
      "cell_type": "code",
      "execution_count": 21,
      "metadata": {
        "id": "8CJdcxTPfipn"
      },
      "outputs": [],
      "source": [
        "import torch\n",
        "import os\n",
        "import gc\n",
        "import numpy as np\n",
        "from tqdm import tqdm\n",
        "from PIL import Image\n",
        "from torchvision import transforms\n",
        "from sklearn.metrics import precision_score, recall_score, f1_score\n",
        "\n",
        "def evaluate_cattle_protonet(model, train_path, cattle_train_path,cattle_test_path, device=\"cuda\", batch_size=100):\n",
        "    model.eval()\n",
        "    model.to(device)\n",
        "    support_embeddings, support_labels = create_support_set(train_path, cattle_train_path, batch_size=500, device=device)\n",
        "\n",
        "    unique_labels = torch.unique(support_labels)\n",
        "    class_prototypes = {lbl.item(): support_embeddings[support_labels == lbl].mean(0).cpu() for lbl in unique_labels}\n",
        "\n",
        "    prototype_tensors = torch.stack([class_prototypes[lbl] for lbl in sorted(class_prototypes.keys())]).to(device)\n",
        "\n",
        "    transform = transforms.Compose([\n",
        "        transforms.Resize((84, 84)),\n",
        "        transforms.ToTensor(),\n",
        "        transforms.Normalize(mean=[0.485, 0.456, 0.406], std=[0.229, 0.224, 0.225])\n",
        "    ])\n",
        "\n",
        "    correct = 0\n",
        "    total = 0\n",
        "    all_test_pred_labels = []\n",
        "    all_test_true_labels = []\n",
        "\n",
        "    cattle_images = sorted([f for f in os.listdir(cattle_test_path) if f.endswith(('.png', '.jpg', '.jpeg'))])\n",
        "\n",
        "    for i in tqdm(range(0, len(cattle_images), batch_size), desc=\"Processing CATTLE Images\"):\n",
        "        batch_files = cattle_images[i: i + batch_size]\n",
        "        batch_images = []\n",
        "        batch_labels = []\n",
        "\n",
        "        for image_name in batch_files:\n",
        "            image_path = os.path.join(cattle_test_path, image_name)\n",
        "\n",
        "            try:\n",
        "                image = Image.open(image_path).convert(\"RGB\")\n",
        "                image = transform(image)\n",
        "                batch_images.append(image)\n",
        "                batch_labels.append(43)\n",
        "            except Exception as e:\n",
        "                print(f\"Skipping invalid image {image_name}: {e}\")\n",
        "                continue\n",
        "\n",
        "        if not batch_images:\n",
        "            continue\n",
        "\n",
        "        batch_tensor = torch.stack(batch_images).to(device)\n",
        "        test_embeddings = model(batch_tensor)\n",
        "\n",
        "        distances = torch.cdist(test_embeddings, prototype_tensors, p=2)\n",
        "        predicted_classes = torch.argmin(distances, dim=1).cpu().numpy()\n",
        "\n",
        "        for pred, actual in zip(predicted_classes, batch_labels):\n",
        "            all_test_pred_labels.append(pred)\n",
        "            all_test_true_labels.append(actual)\n",
        "            if pred == actual:\n",
        "                correct += 1\n",
        "            total += 1\n",
        "\n",
        "        del batch_tensor, test_embeddings, distances\n",
        "        torch.cuda.empty_cache()\n",
        "        gc.collect()\n",
        "\n",
        "    test_accuracy = (correct / total) * 100 if total > 0 else 0\n",
        "    del support_embeddings, support_labels, prototype_tensors, model\n",
        "    torch.cuda.empty_cache()\n",
        "    gc.collect()\n",
        "\n",
        "    return test_accuracy, all_test_true_labels, all_test_pred_labels\n"
      ]
    },
    {
      "cell_type": "code",
      "execution_count": 22,
      "metadata": {
        "colab": {
          "base_uri": "https://localhost:8080/"
        },
        "id": "zuZWcnJLgO4a",
        "outputId": "b52c3868-dc88-4413-ca94-0ba3cdd9e776"
      },
      "outputs": [
        {
          "name": "stdout",
          "output_type": "stream",
          "text": [
            "🔍 Adding CATTLE images as class 43...\n",
            "Support set created with 39245 images from 44 classes (Processed in batches).\n"
          ]
        },
        {
          "name": "stderr",
          "output_type": "stream",
          "text": [
            "Processing CATTLE Images: 100%|██████████| 1/1 [00:00<00:00,  4.59it/s]\n"
          ]
        },
        {
          "name": "stdout",
          "output_type": "stream",
          "text": [
            "CATTLE Accuracy: 100.00%\n"
          ]
        }
      ],
      "source": [
        "train_path = \"/content/Train\"\n",
        "cattle_train_path = \"/content/CATTLE_train/CATTLE\"\n",
        "cattle_test_path = \"/content/CATTLE_test/CATTLE\"\n",
        "\n",
        "cattle_accuracy, true_labels, pred_labels = evaluate_cattle_protonet(model, train_path, cattle_train_path,cattle_test_path)\n",
        "\n",
        "print(f\"CATTLE Accuracy: {cattle_accuracy:.2f}%\")\n"
      ]
    }
  ],
  "metadata": {
    "accelerator": "GPU",
    "colab": {
      "gpuType": "T4",
      "provenance": []
    },
    "kernelspec": {
      "display_name": "Python 3",
      "name": "python3"
    },
    "language_info": {
      "codemirror_mode": {
        "name": "ipython",
        "version": 3
      },
      "file_extension": ".py",
      "mimetype": "text/x-python",
      "name": "python",
      "nbconvert_exporter": "python",
      "pygments_lexer": "ipython3",
      "version": "3.12.3"
    }
  },
  "nbformat": 4,
  "nbformat_minor": 0
}
