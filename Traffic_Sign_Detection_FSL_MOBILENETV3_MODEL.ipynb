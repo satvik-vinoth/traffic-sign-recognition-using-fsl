{
  "nbformat": 4,
  "nbformat_minor": 0,
  "metadata": {
    "colab": {
      "provenance": [],
      "gpuType": "T4"
    },
    "kernelspec": {
      "name": "python3",
      "display_name": "Python 3"
    },
    "language_info": {
      "name": "python"
    },
    "accelerator": "GPU"
  },
  "cells": [
    {
      "cell_type": "markdown",
      "source": [
        "# Traffic Sign Recognition using Few-Shot Learning (MOBILENETV3 MODEL)"
      ],
      "metadata": {
        "id": "ESxtDQ8c76tE"
      }
    },
    {
      "cell_type": "markdown",
      "source": [
        "## LOADING DATA"
      ],
      "metadata": {
        "id": "9Wd2piOA7_DY"
      }
    },
    {
      "cell_type": "code",
      "source": [
        "import random\n",
        "import numpy as np\n",
        "import torch\n",
        "\n",
        "def set_seed(seed=42):\n",
        "    random.seed(seed)\n",
        "    np.random.seed(seed)\n",
        "    torch.manual_seed(seed)\n",
        "    torch.cuda.manual_seed(seed)\n",
        "    torch.cuda.manual_seed_all(seed)\n",
        "    torch.backends.cudnn.deterministic = True\n",
        "    torch.backends.cudnn.benchmark = False\n",
        "\n",
        "set_seed(42)\n"
      ],
      "metadata": {
        "id": "MG5xfwqsic5B"
      },
      "execution_count": 1,
      "outputs": []
    },
    {
      "cell_type": "code",
      "source": [
        "import kagglehub\n",
        "\n",
        "path = kagglehub.dataset_download(\"meowmeowmeowmeowmeow/gtsrb-german-traffic-sign\")\n",
        "\n",
        "print(\"Path to dataset files:\", path)"
      ],
      "metadata": {
        "colab": {
          "base_uri": "https://localhost:8080/"
        },
        "id": "qj-PNUDjBMt5",
        "outputId": "3d64306b-93d2-49dc-f196-65c660c998af"
      },
      "execution_count": 2,
      "outputs": [
        {
          "output_type": "stream",
          "name": "stdout",
          "text": [
            "Downloading from https://www.kaggle.com/api/v1/datasets/download/meowmeowmeowmeowmeow/gtsrb-german-traffic-sign?dataset_version_number=1...\n"
          ]
        },
        {
          "output_type": "stream",
          "name": "stderr",
          "text": [
            "100%|██████████| 612M/612M [00:07<00:00, 81.4MB/s]"
          ]
        },
        {
          "output_type": "stream",
          "name": "stdout",
          "text": [
            "Extracting files...\n"
          ]
        },
        {
          "output_type": "stream",
          "name": "stderr",
          "text": [
            "\n"
          ]
        },
        {
          "output_type": "stream",
          "name": "stdout",
          "text": [
            "Path to dataset files: /root/.cache/kagglehub/datasets/meowmeowmeowmeowmeow/gtsrb-german-traffic-sign/versions/1\n"
          ]
        }
      ]
    },
    {
      "cell_type": "code",
      "source": [
        "import shutil\n",
        "\n",
        "colab_path = \"/content\"\n",
        "shutil.copytree(path, colab_path, dirs_exist_ok=True)\n",
        "\n",
        "print(\"Datasets copied to Colab workspace.\")\n"
      ],
      "metadata": {
        "colab": {
          "base_uri": "https://localhost:8080/"
        },
        "id": "kbP9wAluBM-Z",
        "outputId": "d2f10147-dda4-4737-b1fb-64ef2484c262"
      },
      "execution_count": 3,
      "outputs": [
        {
          "output_type": "stream",
          "name": "stdout",
          "text": [
            "Datasets copied to Colab workspace.\n"
          ]
        }
      ]
    },
    {
      "cell_type": "markdown",
      "source": [
        "## EXPLORING DATASET"
      ],
      "metadata": {
        "id": "10P9iumu8Dom"
      }
    },
    {
      "cell_type": "code",
      "source": [
        "import os\n",
        "\n",
        "dataset_path = \"/content\"\n",
        "\n",
        "print(\"Dataset contents:\", os.listdir(dataset_path))\n",
        "\n",
        "print(\"Train Folder:\", os.listdir(os.path.join(dataset_path, \"Train\"))[:5])\n",
        "print(\"Test Folder:\", os.listdir(os.path.join(dataset_path, \"Test\"))[:5])"
      ],
      "metadata": {
        "colab": {
          "base_uri": "https://localhost:8080/"
        },
        "id": "1IvaPHZ6BTav",
        "outputId": "345ccfb6-13e5-4466-99e2-3da0fdf91a2e"
      },
      "execution_count": 4,
      "outputs": [
        {
          "output_type": "stream",
          "name": "stdout",
          "text": [
            "Dataset contents: ['.config', 'Train', 'Train.csv', 'train', 'meta', 'Meta.csv', 'Meta', 'Test', 'test', 'Test.csv', 'sample_data']\n",
            "Train Folder: ['24', '6', '42', '29', '1']\n",
            "Test Folder: ['02185.png', '10751.png', '12221.png', '04859.png', '12442.png']\n"
          ]
        }
      ]
    },
    {
      "cell_type": "code",
      "source": [
        "import os\n",
        "\n",
        "train_path = \"/content/Train\"\n",
        "\n",
        "classes = sorted(os.listdir(train_path))\n",
        "num_classes = len(classes)\n",
        "\n",
        "class_counts = {cls: len(os.listdir(os.path.join(train_path, cls))) for cls in classes}\n",
        "\n",
        "print(f\"Total Number of Classes: {num_classes}\")\n",
        "print(\"Images per class:\")\n",
        "for cls, count in class_counts.items():\n",
        "    print(f\"Class {cls}: {count} images\")\n"
      ],
      "metadata": {
        "colab": {
          "base_uri": "https://localhost:8080/"
        },
        "id": "tbxmDngJBn9K",
        "outputId": "1c1623b2-2291-4f12-bbe5-c681ba5e6d34"
      },
      "execution_count": 5,
      "outputs": [
        {
          "output_type": "stream",
          "name": "stdout",
          "text": [
            "Total Number of Classes: 43\n",
            "Images per class:\n",
            "Class 0: 210 images\n",
            "Class 1: 2220 images\n",
            "Class 10: 2010 images\n",
            "Class 11: 1320 images\n",
            "Class 12: 2100 images\n",
            "Class 13: 2160 images\n",
            "Class 14: 780 images\n",
            "Class 15: 630 images\n",
            "Class 16: 420 images\n",
            "Class 17: 1110 images\n",
            "Class 18: 1200 images\n",
            "Class 19: 210 images\n",
            "Class 2: 2250 images\n",
            "Class 20: 360 images\n",
            "Class 21: 330 images\n",
            "Class 22: 390 images\n",
            "Class 23: 510 images\n",
            "Class 24: 270 images\n",
            "Class 25: 1500 images\n",
            "Class 26: 600 images\n",
            "Class 27: 240 images\n",
            "Class 28: 540 images\n",
            "Class 29: 270 images\n",
            "Class 3: 1410 images\n",
            "Class 30: 450 images\n",
            "Class 31: 780 images\n",
            "Class 32: 240 images\n",
            "Class 33: 689 images\n",
            "Class 34: 420 images\n",
            "Class 35: 1200 images\n",
            "Class 36: 390 images\n",
            "Class 37: 210 images\n",
            "Class 38: 2070 images\n",
            "Class 39: 300 images\n",
            "Class 4: 1980 images\n",
            "Class 40: 360 images\n",
            "Class 41: 240 images\n",
            "Class 42: 240 images\n",
            "Class 5: 1860 images\n",
            "Class 6: 420 images\n",
            "Class 7: 1440 images\n",
            "Class 8: 1410 images\n",
            "Class 9: 1470 images\n"
          ]
        }
      ]
    },
    {
      "cell_type": "code",
      "source": [
        "test_path = \"/content/Test\"\n",
        "\n",
        "num_test_images = len(os.listdir(test_path))\n",
        "\n",
        "print(f\"Total Number of Test Images: {num_test_images}\")\n"
      ],
      "metadata": {
        "colab": {
          "base_uri": "https://localhost:8080/"
        },
        "id": "v6OtheLhD_1Y",
        "outputId": "f1149b1c-2e8a-407a-9f16-8768464d4436"
      },
      "execution_count": 6,
      "outputs": [
        {
          "output_type": "stream",
          "name": "stdout",
          "text": [
            "Total Number of Test Images: 12631\n"
          ]
        }
      ]
    },
    {
      "cell_type": "code",
      "source": [
        "import pandas as pd\n",
        "\n",
        "test_csv_path = \"/content/Test.csv\"\n",
        "\n",
        "df = pd.read_csv(test_csv_path)\n",
        "\n",
        "test_class_counts = df['ClassId'].value_counts().sort_index()\n",
        "\n",
        "print(f\"Total Number of Test Images: {len(df)}\")\n",
        "print(\"Test Images per Class:\")\n",
        "print(test_class_counts)\n"
      ],
      "metadata": {
        "colab": {
          "base_uri": "https://localhost:8080/"
        },
        "id": "FJW_SSl8EJC4",
        "outputId": "51575586-0771-44c1-9ec1-791551d24dda"
      },
      "execution_count": 7,
      "outputs": [
        {
          "output_type": "stream",
          "name": "stdout",
          "text": [
            "Total Number of Test Images: 12630\n",
            "Test Images per Class:\n",
            "ClassId\n",
            "0      60\n",
            "1     720\n",
            "2     750\n",
            "3     450\n",
            "4     660\n",
            "5     630\n",
            "6     150\n",
            "7     450\n",
            "8     450\n",
            "9     480\n",
            "10    660\n",
            "11    420\n",
            "12    690\n",
            "13    720\n",
            "14    270\n",
            "15    210\n",
            "16    150\n",
            "17    360\n",
            "18    390\n",
            "19     60\n",
            "20     90\n",
            "21     90\n",
            "22    120\n",
            "23    150\n",
            "24     90\n",
            "25    480\n",
            "26    180\n",
            "27     60\n",
            "28    150\n",
            "29     90\n",
            "30    150\n",
            "31    270\n",
            "32     60\n",
            "33    210\n",
            "34    120\n",
            "35    390\n",
            "36    120\n",
            "37     60\n",
            "38    690\n",
            "39     90\n",
            "40     90\n",
            "41     60\n",
            "42     90\n",
            "Name: count, dtype: int64\n"
          ]
        }
      ]
    },
    {
      "cell_type": "markdown",
      "source": [
        "## Custom Few-Shot Learning Dataset Loader"
      ],
      "metadata": {
        "id": "X4Pc0f748QZC"
      }
    },
    {
      "cell_type": "code",
      "source": [
        "import torch\n",
        "import random\n",
        "import os\n",
        "from torchvision import transforms\n",
        "from PIL import Image\n",
        "\n",
        "class TrafficSignFewShotDataset(torch.utils.data.Dataset):\n",
        "    def __init__(self, root, num_classes=5, num_support=1, num_query=5, image_size=84):\n",
        "        self.root = root\n",
        "        self.num_classes = num_classes\n",
        "        self.num_support = num_support\n",
        "        self.num_query = num_query\n",
        "        self.image_size = image_size\n",
        "\n",
        "        self.transform = transforms.Compose([\n",
        "            transforms.Resize((image_size, image_size)),\n",
        "            transforms.ToTensor(),\n",
        "            transforms.Normalize(mean=[0.485, 0.456, 0.406], std=[0.229, 0.224, 0.225])\n",
        "        ])\n",
        "\n",
        "        self.data_by_class = {}\n",
        "        for class_name in sorted(os.listdir(root)):\n",
        "            class_path = os.path.join(root, class_name)\n",
        "\n",
        "            if os.path.isdir(class_path):\n",
        "                image_files = [os.path.join(class_path, img) for img in os.listdir(class_path) if img.endswith('.png') or img.endswith('.jpg')]\n",
        "                if len(image_files) >= self.num_support + self.num_query:\n",
        "                    self.data_by_class[class_name] = image_files\n",
        "        self.class_list = sorted(list(self.data_by_class.keys()))\n",
        "\n",
        "    def sample_episode(self):\n",
        "        if len(self.class_list) < self.num_classes:\n",
        "            raise ValueError(\"Not enough classes to sample required N-way task.\")\n",
        "\n",
        "        selected_classes = random.sample(self.class_list, self.num_classes)\n",
        "        support_set, query_set = [], []\n",
        "        real_labels = {}\n",
        "\n",
        "        for temp_label, cls in enumerate(selected_classes):\n",
        "            real_labels[temp_label] = cls\n",
        "\n",
        "            if len(self.data_by_class[cls]) < self.num_support + self.num_query:\n",
        "                continue\n",
        "\n",
        "            images = random.sample(self.data_by_class[cls], self.num_support + self.num_query)\n",
        "            support_set.extend([(img, temp_label) for img in images[:self.num_support]])\n",
        "            query_set.extend([(img, temp_label) for img in images[self.num_support:]])\n",
        "\n",
        "        return support_set, query_set, real_labels\n",
        "\n",
        "    def __getitem__(self, index):\n",
        "        support_set, query_set, real_labels = self.sample_episode()\n",
        "\n",
        "        def load_image(data):\n",
        "            images, labels = [], []\n",
        "            for img_path, label in data:\n",
        "                img = Image.open(img_path).convert(\"RGB\")\n",
        "                img = self.transform(img)\n",
        "                images.append(img)\n",
        "                labels.append(label)\n",
        "            return torch.stack(images), torch.tensor(labels)\n",
        "\n",
        "        support_images, support_labels = load_image(support_set)\n",
        "        query_images, query_labels = load_image(query_set)\n",
        "\n",
        "        return support_images, support_labels, query_images, query_labels, real_labels\n",
        "\n",
        "    def __len__(self):\n",
        "        return 1000\n"
      ],
      "metadata": {
        "id": "vvh95W0VELBr"
      },
      "execution_count": 8,
      "outputs": []
    },
    {
      "cell_type": "markdown",
      "source": [
        "## CNN-Based Feature Extractor for Prototypical Networks"
      ],
      "metadata": {
        "id": "m0mUHavu8bX6"
      }
    },
    {
      "cell_type": "code",
      "source": [
        "import torch\n",
        "import torch.nn as nn\n",
        "import torch.optim as optim\n",
        "import torch.nn.functional as F\n",
        "from torchvision.models import mobilenet_v3_large\n",
        "\n",
        "class ProtoNet(nn.Module):\n",
        "    def __init__(self, feature_dim=960):\n",
        "        super(ProtoNet, self).__init__()\n",
        "        mobilenet = mobilenet_v3_large(pretrained=True)\n",
        "        self.encoder = nn.Sequential(\n",
        "            mobilenet.features,\n",
        "            nn.AdaptiveAvgPool2d(1)\n",
        "        )\n",
        "\n",
        "    def forward(self, x):\n",
        "        x = self.encoder(x)\n",
        "        return x.view(x.shape[0], -1)\n"
      ],
      "metadata": {
        "id": "8brcRyLuFM91"
      },
      "execution_count": 9,
      "outputs": []
    },
    {
      "cell_type": "code",
      "source": [
        "def euclidean_distance(a, b):\n",
        "    return torch.sum((a.unsqueeze(1) - b.unsqueeze(0)) ** 2, dim=2)\n"
      ],
      "metadata": {
        "id": "vULkG4tlGNVo"
      },
      "execution_count": 10,
      "outputs": []
    },
    {
      "cell_type": "markdown",
      "source": [
        "## TRAINING MODEL"
      ],
      "metadata": {
        "id": "zmB7Zu0l8ekC"
      }
    },
    {
      "cell_type": "code",
      "source": [
        "from tqdm import tqdm\n",
        "\n",
        "def train_protonet(model, dataloader, optimizer, num_epochs=50, device=\"cuda\"):\n",
        "    model.train()\n",
        "    model.to(device)\n",
        "\n",
        "    for epoch in range(num_epochs):\n",
        "        total_loss = 0.0\n",
        "        total_acc = 0.0\n",
        "\n",
        "        for support_imgs, support_labels, query_imgs, query_labels, _  in tqdm(dataloader):\n",
        "            support_imgs, query_imgs = support_imgs.squeeze(0).to(device), query_imgs.squeeze(0).to(device)\n",
        "            support_labels, query_labels = support_labels.squeeze(0).to(device), query_labels.squeeze(0).to(device)\n",
        "\n",
        "            support_embeddings = model(support_imgs)\n",
        "            query_embeddings = model(query_imgs)\n",
        "\n",
        "            unique_labels = torch.unique(support_labels)\n",
        "            prototypes = torch.stack([support_embeddings[support_labels == lbl].mean(0) for lbl in unique_labels])\n",
        "\n",
        "            dists = euclidean_distance(query_embeddings, prototypes)\n",
        "            log_p_y = F.log_softmax(-dists, dim=1)\n",
        "\n",
        "            loss = F.nll_loss(log_p_y, query_labels)\n",
        "            optimizer.zero_grad()\n",
        "            loss.backward()\n",
        "            optimizer.step()\n",
        "\n",
        "            _, predictions = torch.max(log_p_y, 1)\n",
        "            acc = (predictions == query_labels).float().mean()\n",
        "\n",
        "            total_loss += loss.item()\n",
        "            total_acc += acc.item()\n",
        "\n",
        "        print(f\"Epoch {epoch+1}/{num_epochs}: Loss = {total_loss/len(dataloader):.4f}, Accuracy = {total_acc/len(dataloader):.4f}\")\n"
      ],
      "metadata": {
        "id": "WGUdW8X6GOfi"
      },
      "execution_count": 11,
      "outputs": []
    },
    {
      "cell_type": "code",
      "source": [
        "num_classes = 30\n",
        "num_support = 10\n",
        "num_query = 10\n",
        "num_epochs = 5\n",
        "batch_size = 1\n",
        "device = \"cuda\" if torch.cuda.is_available() else \"cpu\"\n",
        "\n",
        "train_path = \"/content/Train\"\n",
        "\n",
        "train_dataset = TrafficSignFewShotDataset(root=train_path, num_classes=num_classes, num_support=num_support, num_query=num_query)\n",
        "train_loader = torch.utils.data.DataLoader(train_dataset, batch_size=batch_size, shuffle=True)\n",
        "\n",
        "model = ProtoNet().to(device)\n",
        "optimizer = torch.optim.Adam(model.parameters(), lr=0.0005)\n",
        "\n",
        "train_protonet(model, train_loader, optimizer, num_epochs=num_epochs, device=device)\n",
        "\n",
        "model_path = \"/content/protonet_model.pth\"\n",
        "torch.save(model.state_dict(), model_path)\n",
        "print(f\"Model saved at {model_path}\")\n",
        "\n"
      ],
      "metadata": {
        "colab": {
          "base_uri": "https://localhost:8080/"
        },
        "id": "gosP5FDuGPvH",
        "outputId": "cb9bab9e-91af-459a-c75e-8c716b31f746",
        "collapsed": true
      },
      "execution_count": 12,
      "outputs": [
        {
          "output_type": "stream",
          "name": "stderr",
          "text": [
            "/usr/local/lib/python3.11/dist-packages/torchvision/models/_utils.py:208: UserWarning: The parameter 'pretrained' is deprecated since 0.13 and may be removed in the future, please use 'weights' instead.\n",
            "  warnings.warn(\n",
            "/usr/local/lib/python3.11/dist-packages/torchvision/models/_utils.py:223: UserWarning: Arguments other than a weight enum or `None` for 'weights' are deprecated since 0.13 and may be removed in the future. The current behavior is equivalent to passing `weights=MobileNet_V3_Large_Weights.IMAGENET1K_V1`. You can also use `weights=MobileNet_V3_Large_Weights.DEFAULT` to get the most up-to-date weights.\n",
            "  warnings.warn(msg)\n",
            "Downloading: \"https://download.pytorch.org/models/mobilenet_v3_large-8738ca79.pth\" to /root/.cache/torch/hub/checkpoints/mobilenet_v3_large-8738ca79.pth\n",
            "100%|██████████| 21.1M/21.1M [00:00<00:00, 106MB/s]\n",
            "100%|██████████| 1000/1000 [12:59<00:00,  1.28it/s]\n"
          ]
        },
        {
          "output_type": "stream",
          "name": "stdout",
          "text": [
            "Epoch 1/5: Loss = 0.3375, Accuracy = 0.9746\n"
          ]
        },
        {
          "output_type": "stream",
          "name": "stderr",
          "text": [
            "100%|██████████| 1000/1000 [12:55<00:00,  1.29it/s]\n"
          ]
        },
        {
          "output_type": "stream",
          "name": "stdout",
          "text": [
            "Epoch 2/5: Loss = 0.0107, Accuracy = 0.9977\n"
          ]
        },
        {
          "output_type": "stream",
          "name": "stderr",
          "text": [
            "100%|██████████| 1000/1000 [12:53<00:00,  1.29it/s]\n"
          ]
        },
        {
          "output_type": "stream",
          "name": "stdout",
          "text": [
            "Epoch 3/5: Loss = 0.0050, Accuracy = 0.9989\n"
          ]
        },
        {
          "output_type": "stream",
          "name": "stderr",
          "text": [
            "100%|██████████| 1000/1000 [12:55<00:00,  1.29it/s]\n"
          ]
        },
        {
          "output_type": "stream",
          "name": "stdout",
          "text": [
            "Epoch 4/5: Loss = 0.0053, Accuracy = 0.9989\n"
          ]
        },
        {
          "output_type": "stream",
          "name": "stderr",
          "text": [
            "100%|██████████| 1000/1000 [12:53<00:00,  1.29it/s]"
          ]
        },
        {
          "output_type": "stream",
          "name": "stdout",
          "text": [
            "Epoch 5/5: Loss = 0.0015, Accuracy = 0.9996\n",
            "Model saved at /content/protonet_model.pth\n"
          ]
        },
        {
          "output_type": "stream",
          "name": "stderr",
          "text": [
            "\n"
          ]
        }
      ]
    },
    {
      "cell_type": "markdown",
      "source": [
        "## TRAINING DATA ACCURACY"
      ],
      "metadata": {
        "id": "62QSYTXO-aKN"
      }
    },
    {
      "cell_type": "code",
      "source": [
        "import torch\n",
        "from sklearn.metrics import precision_score, recall_score, f1_score\n",
        "\n",
        "def train_protonet_evaluation(model, train_loader, device=\"cuda\"):\n",
        "    model.eval()\n",
        "    train_total_correct = 0\n",
        "    train_total_samples = 0\n",
        "\n",
        "    all_train_true_labels = []\n",
        "    all_train_pred_labels = []\n",
        "\n",
        "    with torch.no_grad():\n",
        "        for batch in train_loader:\n",
        "            support_images, support_labels, query_images, query_labels, real_labels = batch\n",
        "            support_images, support_labels = support_images.squeeze(0).to(device), support_labels.squeeze(0).to(device)\n",
        "            query_images, query_labels = query_images.squeeze(0).to(device), query_labels.squeeze(0).to(device)\n",
        "\n",
        "\n",
        "            support_embeddings = model(support_images)\n",
        "            unique_labels = torch.unique(support_labels)\n",
        "            prototypes = torch.stack([support_embeddings[support_labels == lbl].mean(0) for lbl in unique_labels])\n",
        "\n",
        "            query_embeddings = model(query_images)\n",
        "            dists = euclidean_distance(query_embeddings, prototypes)\n",
        "            predicted_labels = torch.argmin(dists, dim=1)\n",
        "\n",
        "\n",
        "            real_pred_labels = [real_labels[pred.item()] for pred in predicted_labels]\n",
        "            real_train_labels = [real_labels[true.item()] for true in query_labels]\n",
        "\n",
        "            correct = sum(p == t for p, t in zip(real_pred_labels, real_train_labels))\n",
        "            train_total_correct += correct\n",
        "            train_total_samples += len(real_train_labels)\n",
        "\n",
        "            all_train_pred_labels.extend(real_pred_labels)\n",
        "            all_train_true_labels.extend(real_train_labels)\n",
        "\n",
        "    precision = precision_score(all_train_true_labels, all_train_pred_labels, average='macro')\n",
        "    recall = recall_score(all_train_true_labels, all_train_pred_labels, average='macro')\n",
        "    f1 = f1_score(all_train_true_labels, all_train_pred_labels, average='macro')\n",
        "\n",
        "    train_accuracy = (train_total_correct / train_total_samples) * 100\n",
        "\n",
        "    print(f\"Final Training Accuracy: {train_accuracy:.2f}%\")\n",
        "    print(f\"Train Precision: {precision:.4f}, Train Recall: {recall:.4f}, Train F1-score: {f1:.4f}\")\n",
        "\n",
        "    return train_accuracy, precision, recall, f1\n",
        "\n",
        "train_accuracy, precision, recall, f1 = train_protonet_evaluation(model, train_loader, device=\"cuda\")\n"
      ],
      "metadata": {
        "id": "OODgIwKQGT3u",
        "colab": {
          "base_uri": "https://localhost:8080/"
        },
        "outputId": "c8b2eedc-5b61-4b48-c588-56a06677fdf8"
      },
      "execution_count": 13,
      "outputs": [
        {
          "output_type": "stream",
          "name": "stdout",
          "text": [
            "Final Training Accuracy: 99.86%\n",
            "Train Precision: 0.9987, Train Recall: 0.9986, Train F1-score: 0.9987\n"
          ]
        }
      ]
    },
    {
      "cell_type": "markdown",
      "source": [
        "## TESTING DATA ACCURACY"
      ],
      "metadata": {
        "id": "Y9mIVaRf-d9S"
      }
    },
    {
      "cell_type": "code",
      "source": [
        "import torch\n",
        "import os\n",
        "import pandas as pd\n",
        "import random\n",
        "from PIL import Image, UnidentifiedImageError\n",
        "from torchvision import transforms\n",
        "from tqdm import tqdm\n",
        "import gc\n",
        "from sklearn.metrics import precision_score, recall_score, f1_score\n",
        "\n",
        "def load_test_labels(csv_path):\n",
        "\n",
        "    df = pd.read_csv(csv_path)\n",
        "    label_map = {row[\"Path\"].split(\"/\")[-1]: row[\"ClassId\"] for _, row in df.iterrows()}\n",
        "    return label_map\n",
        "\n",
        "import torch\n",
        "import os\n",
        "import random\n",
        "from PIL import Image\n",
        "from torchvision import transforms\n",
        "\n",
        "def create_support_set(train_path, batch_size=500, image_size=84, device=\"cuda\", seed=42):\n",
        "\n",
        "    random.seed(seed)\n",
        "    torch.manual_seed(seed)\n",
        "\n",
        "    transform = transforms.Compose([\n",
        "        transforms.Resize((image_size, image_size)),\n",
        "        transforms.ToTensor(),\n",
        "        transforms.Normalize(mean=[0.485, 0.456, 0.406], std=[0.229, 0.224, 0.225])\n",
        "    ])\n",
        "\n",
        "    support_embeddings = []\n",
        "    support_labels = []\n",
        "\n",
        "    class_folders = sorted(os.listdir(train_path))\n",
        "    total_images = 0\n",
        "\n",
        "    for class_folder in class_folders:\n",
        "        class_path = os.path.join(train_path, class_folder)\n",
        "\n",
        "        if not os.path.isdir(class_path):\n",
        "            continue\n",
        "\n",
        "        image_files = [f for f in os.listdir(class_path) if f.endswith(('.png', '.jpg', '.jpeg'))]\n",
        "\n",
        "        batch = []\n",
        "        batch_labels = []\n",
        "\n",
        "        for img_name in image_files:\n",
        "            img_path = os.path.join(class_path, img_name)\n",
        "            image = Image.open(img_path).convert(\"RGB\")\n",
        "            image = transform(image).to(device)\n",
        "            batch.append(image)\n",
        "            batch_labels.append(int(class_folder))\n",
        "\n",
        "            if len(batch) == batch_size:\n",
        "                batch_tensor = torch.stack(batch).to(device)\n",
        "                batch_labels_tensor = torch.tensor(batch_labels, device=device)\n",
        "\n",
        "                with torch.no_grad():\n",
        "                    batch_embeddings = model(batch_tensor).cpu()\n",
        "\n",
        "                support_embeddings.append(batch_embeddings)\n",
        "                support_labels.append(batch_labels_tensor.cpu())\n",
        "                del batch_tensor, batch_labels_tensor, batch_embeddings\n",
        "                torch.cuda.empty_cache()\n",
        "                gc.collect()\n",
        "\n",
        "                batch = []\n",
        "                batch_labels = []\n",
        "\n",
        "\n",
        "        if batch:\n",
        "            batch_tensor = torch.stack(batch).to(device)\n",
        "            batch_labels_tensor = torch.tensor(batch_labels, device=device)\n",
        "\n",
        "            with torch.no_grad():\n",
        "                batch_embeddings = model(batch_tensor).cpu()\n",
        "\n",
        "            support_embeddings.append(batch_embeddings)\n",
        "            support_labels.append(batch_labels_tensor.cpu())\n",
        "\n",
        "            del batch_tensor, batch_labels_tensor, batch_embeddings\n",
        "            torch.cuda.empty_cache()\n",
        "            gc.collect()\n",
        "\n",
        "        total_images += len(image_files)\n",
        "\n",
        "    support_embeddings = torch.cat(support_embeddings, dim=0)\n",
        "    support_labels = torch.cat(support_labels, dim=0)\n",
        "\n",
        "    print(f\"Support set created with {total_images} images from {len(torch.unique(support_labels))} classes (Processed in batches).\")\n",
        "    return support_embeddings, support_labels\n",
        "\n",
        "def evaluate_protonet(model, train_path, test_path, test_csv, device=\"cuda\", test_batch_size=100):\n",
        "    model.eval()\n",
        "    model.to(device)\n",
        "    all_test_true_labels = []\n",
        "    all_test_pred_labels = []\n",
        "\n",
        "    support_embeddings, support_labels = create_support_set(train_path, batch_size=500, device=device)\n",
        "\n",
        "    unique_labels = torch.unique(support_labels)\n",
        "    class_prototypes = {}\n",
        "\n",
        "    for lbl in unique_labels:\n",
        "        class_prototypes[lbl.item()] = support_embeddings[support_labels == lbl].mean(0).cpu()\n",
        "\n",
        "    prototype_tensors = torch.stack([class_prototypes[lbl] for lbl in sorted(class_prototypes.keys())]).to(device)\n",
        "\n",
        "    test_labels = load_test_labels(test_csv)\n",
        "\n",
        "    transform = transforms.Compose([\n",
        "        transforms.Resize((84, 84)),\n",
        "        transforms.ToTensor(),\n",
        "        transforms.Normalize(mean=[0.485, 0.456, 0.406], std=[0.229, 0.224, 0.225])\n",
        "    ])\n",
        "\n",
        "    correct = 0\n",
        "    total = 0\n",
        "    all_test_pred_labels = []\n",
        "    all_test_true_labels = []\n",
        "\n",
        "    test_images = sorted(os.listdir(test_path))\n",
        "\n",
        "    for i in tqdm(range(0, len(test_images), test_batch_size), desc=\"Processing Test Images\"):\n",
        "        batch_files = test_images[i : i + test_batch_size]\n",
        "        batch_images = []\n",
        "        batch_labels = []\n",
        "\n",
        "        for image_name in batch_files:\n",
        "            image_path = os.path.join(test_path, image_name)\n",
        "\n",
        "            if not (image_name.endswith(\".png\") or image_name.endswith(\".jpg\") or image_name.endswith(\".jpeg\")):\n",
        "                continue\n",
        "\n",
        "            try:\n",
        "                image = Image.open(image_path).convert(\"RGB\")\n",
        "                image = transform(image)\n",
        "                batch_images.append(image)\n",
        "                batch_labels.append(test_labels.get(image_name, -1))\n",
        "            except Exception as e:\n",
        "                print(f\"Skipping invalid image {image_name}: {e}\")\n",
        "                continue\n",
        "\n",
        "        if not batch_images:\n",
        "            continue\n",
        "\n",
        "        batch_tensor = torch.stack(batch_images).to(device)\n",
        "        test_embeddings = model(batch_tensor)\n",
        "        distances = torch.cdist(test_embeddings, prototype_tensors, p=2)\n",
        "        predicted_classes = torch.argmin(distances, dim=1).cpu().numpy()\n",
        "        for pred, actual in zip(predicted_classes, batch_labels):\n",
        "            if actual != -1:\n",
        "                all_test_pred_labels.append(pred)\n",
        "                all_test_true_labels.append(actual)\n",
        "                if pred == actual:\n",
        "                    correct += 1\n",
        "                total += 1\n",
        "\n",
        "        del batch_tensor, test_embeddings, distances\n",
        "        torch.cuda.empty_cache()\n",
        "        gc.collect()\n",
        "\n",
        "    all_test_pred_labels.extend(predicted_classes)\n",
        "    all_test_true_labels.extend(batch_labels)\n",
        "\n",
        "    test_accuracy = (correct / total) * 100 if total > 0 else 0\n",
        "\n",
        "    precision = precision_score(all_test_true_labels, all_test_pred_labels, average='macro', zero_division=0)\n",
        "    recall = recall_score(all_test_true_labels, all_test_pred_labels, average='macro', zero_division=0)\n",
        "    f1 = f1_score(all_test_true_labels, all_test_pred_labels, average='macro', zero_division=0)\n",
        "    print(f\"Test Accuracy: {test_accuracy:.2f}%\")\n",
        "    print(f\"Test Precision: {precision:.4f}, Test Recall: {recall:.4f}, Test F1-score: {f1:.4f}\")\n",
        "\n",
        "    del support_embeddings, support_labels, prototype_tensors, model\n",
        "    torch.cuda.empty_cache()\n",
        "    gc.collect()\n",
        "    return test_accuracy, precision, recall, f1,all_test_true_labels, all_test_pred_labels\n",
        "\n"
      ],
      "metadata": {
        "id": "f3CLbUzvc_UJ"
      },
      "execution_count": 14,
      "outputs": []
    },
    {
      "cell_type": "code",
      "source": [
        "\n",
        "train_path = \"/content/Train\"\n",
        "test_path = \"/content/Test\"\n",
        "test_csv = \"/content/Test.csv\"\n",
        "\n",
        "test_accuracy, precision, recall, f1, all_test_true_labels, all_test_pred_labels = evaluate_protonet(model, train_path, test_path, test_csv, device=\"cuda\")\n"
      ],
      "metadata": {
        "colab": {
          "base_uri": "https://localhost:8080/"
        },
        "id": "0qkpatM1dFJH",
        "outputId": "5fe40c2f-829f-46ed-9eac-bc0984248367"
      },
      "execution_count": 15,
      "outputs": [
        {
          "output_type": "stream",
          "name": "stdout",
          "text": [
            "Support set created with 39209 images from 43 classes (Processed in batches).\n"
          ]
        },
        {
          "output_type": "stream",
          "name": "stderr",
          "text": [
            "Processing Test Images: 100%|██████████| 127/127 [00:37<00:00,  3.35it/s]\n"
          ]
        },
        {
          "output_type": "stream",
          "name": "stdout",
          "text": [
            "Test Accuracy: 96.87%\n",
            "Test Precision: 0.9588, Test Recall: 0.9642, Test F1-score: 0.9601\n"
          ]
        }
      ]
    },
    {
      "cell_type": "markdown",
      "source": [
        "## CONFUSION MATRIX"
      ],
      "metadata": {
        "id": "wb9Fu0zX-zk0"
      }
    },
    {
      "cell_type": "code",
      "source": [
        "import matplotlib.pyplot as plt\n",
        "import seaborn as sns\n",
        "from sklearn.metrics import confusion_matrix\n",
        "import numpy as np\n",
        "\n",
        "def plot_confusion_matrix(true_labels, pred_labels, class_names):\n",
        "    cm = confusion_matrix(true_labels, pred_labels)\n",
        "    plt.figure(figsize=(20, 10))\n",
        "    sns.heatmap(cm, annot=True, fmt=\"d\", cmap=\"Blues\", xticklabels=class_names, yticklabels=class_names)\n",
        "    plt.xlabel(\"Predicted Label\")\n",
        "    plt.ylabel(\"True Label\")\n",
        "    plt.title(\"Confusion Matrix\")\n",
        "    plt.show()\n",
        "\n",
        "plot_confusion_matrix(all_test_true_labels, all_test_pred_labels, class_names=[str(i) for i in range(43)])\n"
      ],
      "metadata": {
        "id": "MNSG6wU_dHNH",
        "colab": {
          "base_uri": "https://localhost:8080/",
          "height": 696
        },
        "outputId": "8b1b3c56-2a31-4cbb-d49f-570aaf5cd6cf"
      },
      "execution_count": 16,
      "outputs": [
        {
          "output_type": "display_data",
          "data": {
            "text/plain": [
              "<Figure size 2000x1000 with 2 Axes>"
            ],
            "image/png": "[encoded data removed]"
          },
          "metadata": {}
        }
      ]
    },
    {
      "cell_type": "markdown",
      "source": [
        "## LOAD INDIAN TRAFFIC DATASET"
      ],
      "metadata": {
        "id": "s6d1xzY0iI7a"
      }
    },
    {
      "cell_type": "code",
      "source": [
        "import kagglehub\n",
        "\n",
        "# Download latest version\n",
        "path = kagglehub.dataset_download(\"sarangdilipjodh/indian-traffic-signs-prediction85-classes\")\n",
        "\n",
        "print(\"Path to dataset files:\", path)"
      ],
      "metadata": {
        "id": "3urXkljuihun",
        "colab": {
          "base_uri": "https://localhost:8080/"
        },
        "outputId": "a532cb30-abf6-488f-bdcc-9845f96077d3"
      },
      "execution_count": 17,
      "outputs": [
        {
          "output_type": "stream",
          "name": "stdout",
          "text": [
            "Downloading from https://www.kaggle.com/api/v1/datasets/download/sarangdilipjodh/indian-traffic-signs-prediction85-classes?dataset_version_number=1...\n"
          ]
        },
        {
          "output_type": "stream",
          "name": "stderr",
          "text": [
            "100%|██████████| 1.13G/1.13G [00:08<00:00, 147MB/s] "
          ]
        },
        {
          "output_type": "stream",
          "name": "stdout",
          "text": [
            "Extracting files...\n"
          ]
        },
        {
          "output_type": "stream",
          "name": "stderr",
          "text": [
            "\n"
          ]
        },
        {
          "output_type": "stream",
          "name": "stdout",
          "text": [
            "Path to dataset files: /root/.cache/kagglehub/datasets/sarangdilipjodh/indian-traffic-signs-prediction85-classes/versions/1\n"
          ]
        }
      ]
    },
    {
      "cell_type": "code",
      "source": [
        "import shutil\n",
        "\n",
        "colab_path = \"/content\"\n",
        "shutil.copytree(path, colab_path, dirs_exist_ok=True)\n",
        "\n",
        "print(\"Datasets copied to Colab workspace.\")\n"
      ],
      "metadata": {
        "id": "CMLObKibimgS",
        "colab": {
          "base_uri": "https://localhost:8080/"
        },
        "outputId": "071305e1-867e-4316-fe57-c5cb57dbf332"
      },
      "execution_count": 18,
      "outputs": [
        {
          "output_type": "stream",
          "name": "stdout",
          "text": [
            "Datasets copied to Colab workspace.\n"
          ]
        }
      ]
    },
    {
      "cell_type": "markdown",
      "source": [
        "## MOVE CATTLE IMAGES TO CONTENT DIRECTORY"
      ],
      "metadata": {
        "id": "VLCvyB5rjFrW"
      }
    },
    {
      "cell_type": "code",
      "source": [
        "import shutil\n",
        "import os\n",
        "\n",
        "# Define source paths\n",
        "train_cattle_src = \"/content/traffic_sign_classification_dataset/train/CATTLE\"\n",
        "test_cattle_src = \"/content/traffic_sign_classification_dataset/test/CATTLE\"\n",
        "\n",
        "# Define destination paths\n",
        "train_cattle_dest = \"/content/CATTLE_train\"\n",
        "test_cattle_dest = \"/content/CATTLE_test\"\n",
        "\n",
        "# Ensure destination directories exist\n",
        "os.makedirs(train_cattle_dest, exist_ok=True)\n",
        "os.makedirs(test_cattle_dest, exist_ok=True)\n",
        "\n",
        "# Move CATTLE train folder\n",
        "shutil.move(train_cattle_src, train_cattle_dest)\n",
        "\n",
        "# Move CATTLE test folder\n",
        "shutil.move(test_cattle_src, test_cattle_dest)\n",
        "\n",
        "print(f\"✅ Moved CATTLE train images to {train_cattle_dest}\")\n",
        "print(f\"✅ Moved CATTLE test images to {test_cattle_dest}\")\n"
      ],
      "metadata": {
        "id": "JTbsMpx0jLHn",
        "colab": {
          "base_uri": "https://localhost:8080/"
        },
        "outputId": "5db2ac65-137b-4ea7-83c3-21d7956d58b8"
      },
      "execution_count": 19,
      "outputs": [
        {
          "output_type": "stream",
          "name": "stdout",
          "text": [
            "✅ Moved CATTLE train images to /content/CATTLE_train\n",
            "✅ Moved CATTLE test images to /content/CATTLE_test\n"
          ]
        }
      ]
    },
    {
      "cell_type": "markdown",
      "source": [
        "## TEST MODEL WITH NEW CLASS"
      ],
      "metadata": {
        "id": "nNItrT8RjSYV"
      }
    },
    {
      "cell_type": "code",
      "source": [
        "import torch\n",
        "import os\n",
        "import random\n",
        "import gc\n",
        "from PIL import Image\n",
        "from torchvision import transforms\n",
        "\n",
        "def create_support_set(train_path, cattle_path, batch_size=500, image_size=84, device=\"cuda\", seed=42):\n",
        "    random.seed(seed)\n",
        "    torch.manual_seed(seed)\n",
        "\n",
        "    transform = transforms.Compose([\n",
        "        transforms.Resize((image_size, image_size)),\n",
        "        transforms.ToTensor(),\n",
        "        transforms.Normalize(mean=[0.485, 0.456, 0.406], std=[0.229, 0.224, 0.225])\n",
        "    ])\n",
        "\n",
        "    support_embeddings = []\n",
        "    support_labels = []\n",
        "    class_folders = sorted(os.listdir(train_path))\n",
        "    total_images = 0\n",
        "\n",
        "    for class_folder in class_folders:\n",
        "        class_path = os.path.join(train_path, class_folder)\n",
        "\n",
        "        if not os.path.isdir(class_path):\n",
        "            continue\n",
        "\n",
        "        image_files = [f for f in os.listdir(class_path) if f.endswith(('.png', '.jpg', '.jpeg'))]\n",
        "\n",
        "        batch = []\n",
        "        batch_labels = []\n",
        "\n",
        "        for img_name in image_files:\n",
        "            img_path = os.path.join(class_path, img_name)\n",
        "            image = Image.open(img_path).convert(\"RGB\")\n",
        "            image = transform(image).to(device)\n",
        "            batch.append(image)\n",
        "            batch_labels.append(int(class_folder))\n",
        "\n",
        "            if len(batch) == batch_size:\n",
        "                batch_tensor = torch.stack(batch).to(device)\n",
        "                batch_labels_tensor = torch.tensor(batch_labels, device=device)\n",
        "\n",
        "                with torch.no_grad():\n",
        "                    batch_embeddings = model(batch_tensor).cpu()\n",
        "\n",
        "                support_embeddings.append(batch_embeddings)\n",
        "                support_labels.append(batch_labels_tensor.cpu())\n",
        "\n",
        "                del batch_tensor, batch_labels_tensor, batch_embeddings\n",
        "                torch.cuda.empty_cache()\n",
        "                gc.collect()\n",
        "\n",
        "                batch = []\n",
        "                batch_labels = []\n",
        "\n",
        "        if batch:\n",
        "            batch_tensor = torch.stack(batch).to(device)\n",
        "            batch_labels_tensor = torch.tensor(batch_labels, device=device)\n",
        "\n",
        "            with torch.no_grad():\n",
        "                batch_embeddings = model(batch_tensor).cpu()\n",
        "\n",
        "            support_embeddings.append(batch_embeddings)\n",
        "            support_labels.append(batch_labels_tensor.cpu())\n",
        "\n",
        "            del batch_tensor, batch_labels_tensor, batch_embeddings\n",
        "            torch.cuda.empty_cache()\n",
        "            gc.collect()\n",
        "\n",
        "        total_images += len(image_files)\n",
        "\n",
        "    print(\"🔍 Adding CATTLE images as class 43...\")\n",
        "\n",
        "    cattle_images = [f for f in os.listdir(cattle_path) if f.endswith(('.png', '.jpg', '.jpeg'))]\n",
        "\n",
        "    batch = []\n",
        "    batch_labels = []\n",
        "    for img_name in cattle_images:\n",
        "        img_path = os.path.join(cattle_path, img_name)\n",
        "        image = Image.open(img_path).convert(\"RGB\")\n",
        "        image = transform(image).to(device)\n",
        "        batch.append(image)\n",
        "        batch_labels.append(43)\n",
        "\n",
        "        if len(batch) == batch_size:\n",
        "            batch_tensor = torch.stack(batch).to(device)\n",
        "            batch_labels_tensor = torch.tensor(batch_labels, device=device)\n",
        "\n",
        "            with torch.no_grad():\n",
        "                batch_embeddings = model(batch_tensor).cpu()\n",
        "\n",
        "            support_embeddings.append(batch_embeddings)\n",
        "            support_labels.append(batch_labels_tensor.cpu())\n",
        "\n",
        "            del batch_tensor, batch_labels_tensor, batch_embeddings\n",
        "            torch.cuda.empty_cache()\n",
        "            gc.collect()\n",
        "\n",
        "            batch = []\n",
        "            batch_labels = []\n",
        "\n",
        "    if batch:\n",
        "        batch_tensor = torch.stack(batch).to(device)\n",
        "        batch_labels_tensor = torch.tensor(batch_labels, device=device)\n",
        "\n",
        "        with torch.no_grad():\n",
        "            batch_embeddings = model(batch_tensor).cpu()\n",
        "\n",
        "        support_embeddings.append(batch_embeddings)\n",
        "        support_labels.append(batch_labels_tensor.cpu())\n",
        "\n",
        "        del batch_tensor, batch_labels_tensor, batch_embeddings\n",
        "        torch.cuda.empty_cache()\n",
        "        gc.collect()\n",
        "\n",
        "    total_images += len(cattle_images)\n",
        "\n",
        "    support_embeddings = torch.cat(support_embeddings, dim=0)\n",
        "    support_labels = torch.cat(support_labels, dim=0)\n",
        "\n",
        "    print(f\"Support set created with {total_images} images from {len(torch.unique(support_labels))} classes (Processed in batches).\")\n",
        "    return support_embeddings, support_labels\n"
      ],
      "metadata": {
        "id": "QA8EcsHDfiXo"
      },
      "execution_count": 20,
      "outputs": []
    },
    {
      "cell_type": "code",
      "source": [
        "import torch\n",
        "import os\n",
        "import gc\n",
        "import numpy as np\n",
        "from tqdm import tqdm\n",
        "from PIL import Image\n",
        "from torchvision import transforms\n",
        "from sklearn.metrics import precision_score, recall_score, f1_score\n",
        "\n",
        "def evaluate_cattle_protonet(model, train_path, cattle_train_path,cattle_test_path, device=\"cuda\", batch_size=100):\n",
        "    model.eval()\n",
        "    model.to(device)\n",
        "    support_embeddings, support_labels = create_support_set(train_path, cattle_train_path, batch_size=500, device=device)\n",
        "\n",
        "    unique_labels = torch.unique(support_labels)\n",
        "    class_prototypes = {lbl.item(): support_embeddings[support_labels == lbl].mean(0).cpu() for lbl in unique_labels}\n",
        "\n",
        "    prototype_tensors = torch.stack([class_prototypes[lbl] for lbl in sorted(class_prototypes.keys())]).to(device)\n",
        "\n",
        "    transform = transforms.Compose([\n",
        "        transforms.Resize((84, 84)),\n",
        "        transforms.ToTensor(),\n",
        "        transforms.Normalize(mean=[0.485, 0.456, 0.406], std=[0.229, 0.224, 0.225])\n",
        "    ])\n",
        "\n",
        "    correct = 0\n",
        "    total = 0\n",
        "    all_test_pred_labels = []\n",
        "    all_test_true_labels = []\n",
        "\n",
        "    cattle_images = sorted([f for f in os.listdir(cattle_test_path) if f.endswith(('.png', '.jpg', '.jpeg'))])\n",
        "\n",
        "    for i in tqdm(range(0, len(cattle_images), batch_size), desc=\"Processing CATTLE Images\"):\n",
        "        batch_files = cattle_images[i: i + batch_size]\n",
        "        batch_images = []\n",
        "        batch_labels = []\n",
        "\n",
        "        for image_name in batch_files:\n",
        "            image_path = os.path.join(cattle_test_path, image_name)\n",
        "\n",
        "            try:\n",
        "                image = Image.open(image_path).convert(\"RGB\")\n",
        "                image = transform(image)\n",
        "                batch_images.append(image)\n",
        "                batch_labels.append(43)\n",
        "            except Exception as e:\n",
        "                print(f\"Skipping invalid image {image_name}: {e}\")\n",
        "                continue\n",
        "\n",
        "        if not batch_images:\n",
        "            continue\n",
        "\n",
        "        batch_tensor = torch.stack(batch_images).to(device)\n",
        "        test_embeddings = model(batch_tensor)\n",
        "\n",
        "        distances = torch.cdist(test_embeddings, prototype_tensors, p=2)\n",
        "        predicted_classes = torch.argmin(distances, dim=1).cpu().numpy()\n",
        "\n",
        "        for pred, actual in zip(predicted_classes, batch_labels):\n",
        "            all_test_pred_labels.append(pred)\n",
        "            all_test_true_labels.append(actual)\n",
        "            if pred == actual:\n",
        "                correct += 1\n",
        "            total += 1\n",
        "\n",
        "        del batch_tensor, test_embeddings, distances\n",
        "        torch.cuda.empty_cache()\n",
        "        gc.collect()\n",
        "\n",
        "    test_accuracy = (correct / total) * 100 if total > 0 else 0\n",
        "    del support_embeddings, support_labels, prototype_tensors, model\n",
        "    torch.cuda.empty_cache()\n",
        "    gc.collect()\n",
        "\n",
        "    return test_accuracy, all_test_true_labels, all_test_pred_labels\n"
      ],
      "metadata": {
        "id": "8CJdcxTPfipn"
      },
      "execution_count": 21,
      "outputs": []
    },
    {
      "cell_type": "code",
      "source": [
        "train_path = \"/content/Train\"\n",
        "cattle_train_path = \"/content/CATTLE_train/CATTLE\"\n",
        "cattle_test_path = \"/content/CATTLE_test/CATTLE\"\n",
        "\n",
        "cattle_accuracy, true_labels, pred_labels = evaluate_cattle_protonet(model, train_path, cattle_train_path,cattle_test_path)\n",
        "\n",
        "print(f\"CATTLE Accuracy: {cattle_accuracy:.2f}%\")\n"
      ],
      "metadata": {
        "id": "zuZWcnJLgO4a",
        "colab": {
          "base_uri": "https://localhost:8080/"
        },
        "outputId": "43b89922-8969-465f-bdbe-3fc51dc801d8"
      },
      "execution_count": 22,
      "outputs": [
        {
          "output_type": "stream",
          "name": "stdout",
          "text": [
            "🔍 Adding CATTLE images as class 43...\n",
            "Support set created with 39245 images from 44 classes (Processed in batches).\n"
          ]
        },
        {
          "output_type": "stream",
          "name": "stderr",
          "text": [
            "Processing CATTLE Images: 100%|██████████| 1/1 [00:00<00:00,  4.08it/s]\n"
          ]
        },
        {
          "output_type": "stream",
          "name": "stdout",
          "text": [
            "CATTLE Accuracy: 100.00%\n"
          ]
        }
      ]
    }
  ]
}