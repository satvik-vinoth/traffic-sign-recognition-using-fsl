{
  "cells": [
    {
      "cell_type": "markdown",
      "metadata": {
        "id": "ESxtDQ8c76tE"
      },
      "source": [
        "# Traffic Sign Recognition using Few-Shot Learning (CONVIT MODEL)"
      ]
    },
    {
      "cell_type": "markdown",
      "metadata": {
        "id": "9Wd2piOA7_DY"
      },
      "source": [
        "## LOADING DATA"
      ]
    },
    {
      "cell_type": "code",
      "execution_count": null,
      "metadata": {
        "id": "MG5xfwqsic5B"
      },
      "outputs": [],
      "source": [
        "import random\n",
        "import numpy as np\n",
        "import torch\n",
        "\n",
        "def set_seed(seed=42):\n",
        "    random.seed(seed)\n",
        "    np.random.seed(seed)\n",
        "    torch.manual_seed(seed)\n",
        "    torch.cuda.manual_seed(seed)\n",
        "    torch.cuda.manual_seed_all(seed)\n",
        "    torch.backends.cudnn.deterministic = True\n",
        "    torch.backends.cudnn.benchmark = False\n",
        "\n",
        "set_seed(42)\n"
      ]
    },
    {
      "cell_type": "code",
      "execution_count": null,
      "metadata": {
        "colab": {
          "base_uri": "https://localhost:8080/"
        },
        "id": "qj-PNUDjBMt5",
        "outputId": "929e9abf-abc8-4c6f-a53a-2a799f8dbc05"
      },
      "outputs": [
        {
          "name": "stdout",
          "output_type": "stream",
          "text": [
            "Downloading from https://www.kaggle.com/api/v1/datasets/download/meowmeowmeowmeowmeow/gtsrb-german-traffic-sign?dataset_version_number=1...\n"
          ]
        },
        {
          "name": "stderr",
          "output_type": "stream",
          "text": [
            "100%|██████████| 612M/612M [00:27<00:00, 23.0MB/s]"
          ]
        },
        {
          "name": "stdout",
          "output_type": "stream",
          "text": [
            "Extracting files...\n"
          ]
        },
        {
          "name": "stderr",
          "output_type": "stream",
          "text": [
            "\n"
          ]
        },
        {
          "name": "stdout",
          "output_type": "stream",
          "text": [
            "Path to dataset files: /root/.cache/kagglehub/datasets/meowmeowmeowmeowmeow/gtsrb-german-traffic-sign/versions/1\n"
          ]
        }
      ],
      "source": [
        "import kagglehub\n",
        "\n",
        "path = kagglehub.dataset_download(\"meowmeowmeowmeowmeow/gtsrb-german-traffic-sign\")\n",
        "\n",
        "print(\"Path to dataset files:\", path)"
      ]
    },
    {
      "cell_type": "code",
      "execution_count": null,
      "metadata": {
        "colab": {
          "base_uri": "https://localhost:8080/"
        },
        "id": "kbP9wAluBM-Z",
        "outputId": "39a8bc2b-48aa-4cbf-acfd-18e175359e39"
      },
      "outputs": [
        {
          "name": "stdout",
          "output_type": "stream",
          "text": [
            "Datasets copied to Colab workspace.\n"
          ]
        }
      ],
      "source": [
        "import shutil\n",
        "\n",
        "colab_path = \"/content\"\n",
        "shutil.copytree(path, colab_path, dirs_exist_ok=True)\n",
        "\n",
        "print(\"Datasets copied to Colab workspace.\")\n"
      ]
    },
    {
      "cell_type": "markdown",
      "metadata": {
        "id": "10P9iumu8Dom"
      },
      "source": [
        "## EXPLORING DATASET"
      ]
    },
    {
      "cell_type": "code",
      "execution_count": null,
      "metadata": {
        "colab": {
          "base_uri": "https://localhost:8080/"
        },
        "id": "1IvaPHZ6BTav",
        "outputId": "ddb8e72d-1e30-409a-bcc3-d5c88ab52ee1"
      },
      "outputs": [
        {
          "name": "stdout",
          "output_type": "stream",
          "text": [
            "Dataset contents: ['.config', 'meta', 'train', 'test', 'Test', 'Train.csv', 'Meta', 'Meta.csv', 'Test.csv', 'Train', 'sample_data']\n",
            "Train Folder: ['30', '34', '3', '20', '22']\n",
            "Test Folder: ['10291.png', '10311.png', '05775.png', '11344.png', '04854.png']\n"
          ]
        }
      ],
      "source": [
        "import os\n",
        "\n",
        "dataset_path = \"/content\"\n",
        "\n",
        "print(\"Dataset contents:\", os.listdir(dataset_path))\n",
        "\n",
        "print(\"Train Folder:\", os.listdir(os.path.join(dataset_path, \"Train\"))[:5])\n",
        "print(\"Test Folder:\", os.listdir(os.path.join(dataset_path, \"Test\"))[:5])"
      ]
    },
    {
      "cell_type": "code",
      "execution_count": null,
      "metadata": {
        "colab": {
          "base_uri": "https://localhost:8080/"
        },
        "id": "tbxmDngJBn9K",
        "outputId": "a5315203-1dcb-4f8f-807a-9e9c000ef802"
      },
      "outputs": [
        {
          "name": "stdout",
          "output_type": "stream",
          "text": [
            "Total Number of Classes: 43\n",
            "Images per class:\n",
            "Class 0: 210 images\n",
            "Class 1: 2220 images\n",
            "Class 10: 2010 images\n",
            "Class 11: 1320 images\n",
            "Class 12: 2100 images\n",
            "Class 13: 2160 images\n",
            "Class 14: 780 images\n",
            "Class 15: 630 images\n",
            "Class 16: 420 images\n",
            "Class 17: 1110 images\n",
            "Class 18: 1200 images\n",
            "Class 19: 210 images\n",
            "Class 2: 2250 images\n",
            "Class 20: 360 images\n",
            "Class 21: 330 images\n",
            "Class 22: 390 images\n",
            "Class 23: 510 images\n",
            "Class 24: 270 images\n",
            "Class 25: 1500 images\n",
            "Class 26: 600 images\n",
            "Class 27: 240 images\n",
            "Class 28: 540 images\n",
            "Class 29: 270 images\n",
            "Class 3: 1410 images\n",
            "Class 30: 450 images\n",
            "Class 31: 780 images\n",
            "Class 32: 240 images\n",
            "Class 33: 689 images\n",
            "Class 34: 420 images\n",
            "Class 35: 1200 images\n",
            "Class 36: 390 images\n",
            "Class 37: 210 images\n",
            "Class 38: 2070 images\n",
            "Class 39: 300 images\n",
            "Class 4: 1980 images\n",
            "Class 40: 360 images\n",
            "Class 41: 240 images\n",
            "Class 42: 240 images\n",
            "Class 5: 1860 images\n",
            "Class 6: 420 images\n",
            "Class 7: 1440 images\n",
            "Class 8: 1410 images\n",
            "Class 9: 1470 images\n"
          ]
        }
      ],
      "source": [
        "import os\n",
        "\n",
        "train_path = \"/content/Train\"\n",
        "\n",
        "classes = sorted(os.listdir(train_path))\n",
        "num_classes = len(classes)\n",
        "\n",
        "class_counts = {cls: len(os.listdir(os.path.join(train_path, cls))) for cls in classes}\n",
        "\n",
        "print(f\"Total Number of Classes: {num_classes}\")\n",
        "print(\"Images per class:\")\n",
        "for cls, count in class_counts.items():\n",
        "    print(f\"Class {cls}: {count} images\")\n"
      ]
    },
    {
      "cell_type": "code",
      "execution_count": null,
      "metadata": {
        "colab": {
          "base_uri": "https://localhost:8080/"
        },
        "id": "v6OtheLhD_1Y",
        "outputId": "f30342e9-4413-456b-a295-275829730943"
      },
      "outputs": [
        {
          "name": "stdout",
          "output_type": "stream",
          "text": [
            "Total Number of Test Images: 12631\n"
          ]
        }
      ],
      "source": [
        "test_path = \"/content/Test\"\n",
        "\n",
        "num_test_images = len(os.listdir(test_path))\n",
        "\n",
        "print(f\"Total Number of Test Images: {num_test_images}\")\n"
      ]
    },
    {
      "cell_type": "code",
      "execution_count": null,
      "metadata": {
        "colab": {
          "base_uri": "https://localhost:8080/"
        },
        "id": "FJW_SSl8EJC4",
        "outputId": "dfcc8cdc-3289-4a29-d29c-c73aa3d92afd"
      },
      "outputs": [
        {
          "name": "stdout",
          "output_type": "stream",
          "text": [
            "Total Number of Test Images: 12630\n",
            "Test Images per Class:\n",
            "ClassId\n",
            "0      60\n",
            "1     720\n",
            "2     750\n",
            "3     450\n",
            "4     660\n",
            "5     630\n",
            "6     150\n",
            "7     450\n",
            "8     450\n",
            "9     480\n",
            "10    660\n",
            "11    420\n",
            "12    690\n",
            "13    720\n",
            "14    270\n",
            "15    210\n",
            "16    150\n",
            "17    360\n",
            "18    390\n",
            "19     60\n",
            "20     90\n",
            "21     90\n",
            "22    120\n",
            "23    150\n",
            "24     90\n",
            "25    480\n",
            "26    180\n",
            "27     60\n",
            "28    150\n",
            "29     90\n",
            "30    150\n",
            "31    270\n",
            "32     60\n",
            "33    210\n",
            "34    120\n",
            "35    390\n",
            "36    120\n",
            "37     60\n",
            "38    690\n",
            "39     90\n",
            "40     90\n",
            "41     60\n",
            "42     90\n",
            "Name: count, dtype: int64\n"
          ]
        }
      ],
      "source": [
        "import pandas as pd\n",
        "\n",
        "test_csv_path = \"/content/Test.csv\"\n",
        "\n",
        "df = pd.read_csv(test_csv_path)\n",
        "\n",
        "test_class_counts = df['ClassId'].value_counts().sort_index()\n",
        "\n",
        "print(f\"Total Number of Test Images: {len(df)}\")\n",
        "print(\"Test Images per Class:\")\n",
        "print(test_class_counts)\n"
      ]
    },
    {
      "cell_type": "markdown",
      "metadata": {
        "id": "X4Pc0f748QZC"
      },
      "source": [
        "## Custom Few-Shot Learning Dataset Loader"
      ]
    },
    {
      "cell_type": "code",
      "execution_count": null,
      "metadata": {
        "id": "vvh95W0VELBr"
      },
      "outputs": [],
      "source": [
        "import torch\n",
        "import random\n",
        "import os\n",
        "from torchvision import transforms\n",
        "from PIL import Image\n",
        "\n",
        "class TrafficSignFewShotDataset(torch.utils.data.Dataset):\n",
        "    def __init__(self, root, num_classes=5, num_support=1, num_query=5, image_size=224):\n",
        "        self.root = root\n",
        "        self.num_classes = num_classes\n",
        "        self.num_support = num_support\n",
        "        self.num_query = num_query\n",
        "        self.image_size = image_size\n",
        "\n",
        "        self.transform = transforms.Compose([\n",
        "            transforms.Resize((self.image_size, self.image_size)),\n",
        "            transforms.ToTensor(),\n",
        "            transforms.Normalize(mean=[0.485, 0.456, 0.406], std=[0.229, 0.224, 0.225])\n",
        "        ])\n",
        "\n",
        "        self.data_by_class = {}\n",
        "        for class_name in sorted(os.listdir(root)):\n",
        "            class_path = os.path.join(root, class_name)\n",
        "            if os.path.isdir(class_path):\n",
        "                image_files = [os.path.join(class_path, img) for img in os.listdir(class_path) if img.endswith('.png') or img.endswith('.jpg')]\n",
        "                if len(image_files) >= self.num_support + self.num_query:\n",
        "                    self.data_by_class[class_name] = image_files\n",
        "\n",
        "        self.class_list = sorted(list(self.data_by_class.keys()))\n",
        "\n",
        "    def sample_episode(self):\n",
        "        if len(self.class_list) < self.num_classes:\n",
        "            raise ValueError(\"Not enough classes to sample required N-way task.\")\n",
        "\n",
        "        selected_classes = random.sample(self.class_list, self.num_classes)\n",
        "        support_set, query_set = [], []\n",
        "        real_labels = {}\n",
        "\n",
        "        for temp_label, cls in enumerate(selected_classes):\n",
        "            real_labels[temp_label] = cls\n",
        "\n",
        "            if len(self.data_by_class[cls]) < self.num_support + self.num_query:\n",
        "                continue\n",
        "\n",
        "            images = random.sample(self.data_by_class[cls], self.num_support + self.num_query)\n",
        "            support_set.extend([(img, temp_label) for img in images[:self.num_support]])\n",
        "            query_set.extend([(img, temp_label) for img in images[self.num_support:]])\n",
        "\n",
        "        return support_set, query_set, real_labels\n",
        "\n",
        "    def __getitem__(self, index):\n",
        "        support_set, query_set, real_labels = self.sample_episode()\n",
        "\n",
        "        def load_image(data):\n",
        "            images, labels = [], []\n",
        "            for img_path, label in data:\n",
        "                img = Image.open(img_path).convert(\"RGB\")\n",
        "                img = self.transform(img)\n",
        "                images.append(img)\n",
        "                labels.append(label)\n",
        "            return torch.stack(images), torch.tensor(labels)\n",
        "\n",
        "        support_images, support_labels = load_image(support_set)\n",
        "        query_images, query_labels = load_image(query_set)\n",
        "\n",
        "        return support_images, support_labels, query_images, query_labels, real_labels\n",
        "\n",
        "    def __len__(self):\n",
        "        return 1000\n"
      ]
    },
    {
      "cell_type": "markdown",
      "metadata": {
        "id": "m0mUHavu8bX6"
      },
      "source": [
        "## CONVIT-Based Feature Extractor for Prototypical Networks"
      ]
    },
    {
      "cell_type": "code",
      "execution_count": null,
      "metadata": {
        "id": "8brcRyLuFM91"
      },
      "outputs": [],
      "source": [
        "import torch\n",
        "import torch.nn as nn\n",
        "import torchvision.models as models\n",
        "from timm import create_model\n",
        "\n",
        "class ProtoNet(nn.Module):\n",
        "    def __init__(self, feature_dim=768):\n",
        "        super(ProtoNet, self).__init__()\n",
        "        self.encoder = create_model(\"convit_tiny\", pretrained=True)\n",
        "        self.encoder.head = nn.Identity()\n",
        "\n",
        "    def forward(self, x):\n",
        "        return self.encoder(x)\n"
      ]
    },
    {
      "cell_type": "code",
      "execution_count": null,
      "metadata": {
        "id": "vULkG4tlGNVo"
      },
      "outputs": [],
      "source": [
        "def euclidean_distance(a, b):\n",
        "    return torch.sum((a.unsqueeze(1) - b.unsqueeze(0)) ** 2, dim=2)\n"
      ]
    },
    {
      "cell_type": "markdown",
      "metadata": {
        "id": "zmB7Zu0l8ekC"
      },
      "source": [
        "## TRAINING MODEL"
      ]
    },
    {
      "cell_type": "code",
      "execution_count": null,
      "metadata": {
        "id": "WGUdW8X6GOfi"
      },
      "outputs": [],
      "source": [
        "from tqdm import tqdm\n",
        "import torch.nn.functional as F\n",
        "import gc\n",
        "\n",
        "def train_protonet(model, dataloader, optimizer, num_epochs=50, device=\"cuda\"):\n",
        "    model.train()\n",
        "    model.to(device)\n",
        "\n",
        "    for epoch in range(num_epochs):\n",
        "        total_loss = 0.0\n",
        "        total_acc = 0.0\n",
        "\n",
        "        for support_imgs, support_labels, query_imgs, query_labels, _ in tqdm(dataloader, desc=f\"Epoch {epoch+1}/{num_epochs}\"):\n",
        "            support_imgs, query_imgs = support_imgs.squeeze(0).to(device), query_imgs.squeeze(0).to(device)\n",
        "            support_labels, query_labels = support_labels.squeeze(0).to(device), query_labels.squeeze(0).to(device)\n",
        "\n",
        "            support_embeddings = model(support_imgs)\n",
        "            query_embeddings = model(query_imgs)\n",
        "\n",
        "            unique_labels = torch.unique(support_labels)\n",
        "            prototypes = torch.stack([support_embeddings[support_labels == lbl].mean(0) for lbl in unique_labels])\n",
        "\n",
        "            dists = euclidean_distance(query_embeddings, prototypes)\n",
        "            log_p_y = F.log_softmax(-dists, dim=1)\n",
        "\n",
        "            loss = F.nll_loss(log_p_y, query_labels)\n",
        "            optimizer.zero_grad()\n",
        "            loss.backward()\n",
        "            optimizer.step()\n",
        "\n",
        "            _, predictions = torch.max(log_p_y, 1)\n",
        "            acc = (predictions == query_labels).float().mean()\n",
        "\n",
        "            total_loss += loss.item()\n",
        "            total_acc += acc.item()\n",
        "\n",
        "            del support_imgs, query_imgs, support_labels, query_labels\n",
        "            del support_embeddings, query_embeddings, prototypes, dists, log_p_y, loss, predictions, acc\n",
        "            torch.cuda.empty_cache()\n",
        "            gc.collect()\n",
        "\n",
        "        print(f\"Epoch {epoch+1}/{num_epochs}: Loss = {total_loss/len(dataloader):.4f}, Accuracy = {total_acc/len(dataloader):.4f}\")\n",
        "\n"
      ]
    },
    {
      "cell_type": "code",
      "execution_count": null,
      "metadata": {
        "colab": {
          "base_uri": "https://localhost:8080/",
          "height": 364,
          "referenced_widgets": [
            "110a2fe9d0e04f28a3a91f4507cf6c97",
            "85547054d79c449f8dad7aa7ad910d98",
            "f6a7b7dd62b94516b0c5d420f2447fe4",
            "7615be22c6e140fd9cc474df794fbc8e",
            "21190bfd93be49aeab424f64332cb247",
            "2f977eec6d41400e8142d0d22de5547a",
            "9c78c91fc16c4602a13b7ad6a2a87bbd",
            "83c801f33b4549d483d03570644711f3",
            "56e22f7be220411b820f55de4b3ba6e7",
            "12d82b5d4d354336a3727aa413905a35",
            "94da179885574603b3915c09eb62f4f3"
          ]
        },
        "collapsed": true,
        "id": "gosP5FDuGPvH",
        "outputId": "6adbaa06-693e-442d-af3f-c9c43a8c330e"
      },
      "outputs": [
        {
          "name": "stderr",
          "output_type": "stream",
          "text": [
            "/usr/local/lib/python3.11/dist-packages/huggingface_hub/utils/_auth.py:94: UserWarning: \n",
            "The secret `HF_TOKEN` does not exist in your Colab secrets.\n",
            "To authenticate with the Hugging Face Hub, create a token in your settings tab (https://huggingface.co/settings/tokens), set it as secret in your Google Colab and restart your session.\n",
            "You will be able to reuse this secret in all of your notebooks.\n",
            "Please note that authentication is recommended but still optional to access public models or datasets.\n",
            "  warnings.warn(\n"
          ]
        },
        {
          "data": {
            "application/vnd.jupyter.widget-view+json": {
              "model_id": "110a2fe9d0e04f28a3a91f4507cf6c97",
              "version_major": 2,
              "version_minor": 0
            },
            "text/plain": [
              "model.safetensors:   0%|          | 0.00/22.9M [00:00<?, ?B/s]"
            ]
          },
          "metadata": {},
          "output_type": "display_data"
        },
        {
          "name": "stderr",
          "output_type": "stream",
          "text": [
            "Epoch 1/5: 100%|██████████| 1000/1000 [34:49<00:00,  2.09s/it]\n"
          ]
        },
        {
          "name": "stdout",
          "output_type": "stream",
          "text": [
            "Epoch 1/5: Loss = 0.4905, Accuracy = 0.8366\n"
          ]
        },
        {
          "name": "stderr",
          "output_type": "stream",
          "text": [
            "Epoch 2/5: 100%|██████████| 1000/1000 [34:12<00:00,  2.05s/it]\n"
          ]
        },
        {
          "name": "stdout",
          "output_type": "stream",
          "text": [
            "Epoch 2/5: Loss = 0.0155, Accuracy = 0.9950\n"
          ]
        },
        {
          "name": "stderr",
          "output_type": "stream",
          "text": [
            "Epoch 3/5: 100%|██████████| 1000/1000 [34:24<00:00,  2.06s/it]\n"
          ]
        },
        {
          "name": "stdout",
          "output_type": "stream",
          "text": [
            "Epoch 3/5: Loss = 0.0406, Accuracy = 0.9887\n"
          ]
        },
        {
          "name": "stderr",
          "output_type": "stream",
          "text": [
            "Epoch 4/5: 100%|██████████| 1000/1000 [34:44<00:00,  2.08s/it]\n"
          ]
        },
        {
          "name": "stdout",
          "output_type": "stream",
          "text": [
            "Epoch 4/5: Loss = 0.0237, Accuracy = 0.9930\n"
          ]
        },
        {
          "name": "stderr",
          "output_type": "stream",
          "text": [
            "Epoch 5/5: 100%|██████████| 1000/1000 [34:22<00:00,  2.06s/it]"
          ]
        },
        {
          "name": "stdout",
          "output_type": "stream",
          "text": [
            "Epoch 5/5: Loss = 0.0136, Accuracy = 0.9960\n",
            "Model saved at /content/protonet_model.pth\n"
          ]
        },
        {
          "name": "stderr",
          "output_type": "stream",
          "text": [
            "\n"
          ]
        }
      ],
      "source": [
        "num_classes = 10\n",
        "num_support = 10\n",
        "num_query = 10\n",
        "num_epochs = 5\n",
        "batch_size = 1\n",
        "device = \"cuda\" if torch.cuda.is_available() else \"cpu\"\n",
        "\n",
        "train_path = \"/content/Train\"\n",
        "\n",
        "train_dataset = TrafficSignFewShotDataset(root=train_path, num_classes=num_classes, num_support=num_support, num_query=num_query)\n",
        "train_loader = torch.utils.data.DataLoader(train_dataset, batch_size=batch_size, shuffle=True)\n",
        "\n",
        "model = ProtoNet().to(device)\n",
        "optimizer = torch.optim.Adam(model.parameters(), lr=0.0005)\n",
        "\n",
        "train_protonet(model, train_loader, optimizer, num_epochs=num_epochs, device=device)\n",
        "\n",
        "model_path = \"/content/protonet_model.pth\"\n",
        "torch.save(model.state_dict(), model_path)\n",
        "print(f\"Model saved at {model_path}\")\n",
        "\n"
      ]
    },
    {
      "cell_type": "markdown",
      "metadata": {
        "id": "62QSYTXO-aKN"
      },
      "source": [
        "## TRAINING DATA ACCURACY"
      ]
    },
    {
      "cell_type": "code",
      "execution_count": null,
      "metadata": {
        "colab": {
          "base_uri": "https://localhost:8080/"
        },
        "id": "OODgIwKQGT3u",
        "outputId": "6055e81b-897a-47ab-bbc7-9eb19ea0ea19"
      },
      "outputs": [
        {
          "name": "stdout",
          "output_type": "stream",
          "text": [
            "Final Training Accuracy: 99.87%\n",
            "Train Precision: 0.9987, Train Recall: 0.9987, Train F1-score: 0.9987\n"
          ]
        }
      ],
      "source": [
        "import torch\n",
        "from sklearn.metrics import precision_score, recall_score, f1_score\n",
        "\n",
        "def train_protonet_evaluation(model, train_loader, device=\"cuda\"):\n",
        "    model.eval()\n",
        "    train_total_correct = 0\n",
        "    train_total_samples = 0\n",
        "\n",
        "    all_train_true_labels = []\n",
        "    all_train_pred_labels = []\n",
        "\n",
        "    with torch.no_grad():\n",
        "        for batch in train_loader:\n",
        "            support_images, support_labels, query_images, query_labels, real_labels = batch\n",
        "            support_images, support_labels = support_images.squeeze(0).to(device), support_labels.squeeze(0).to(device)\n",
        "            query_images, query_labels = query_images.squeeze(0).to(device), query_labels.squeeze(0).to(device)\n",
        "\n",
        "\n",
        "            support_embeddings = model(support_images)\n",
        "            unique_labels = torch.unique(support_labels)\n",
        "            prototypes = torch.stack([support_embeddings[support_labels == lbl].mean(0) for lbl in unique_labels])\n",
        "\n",
        "            query_embeddings = model(query_images)\n",
        "            dists = euclidean_distance(query_embeddings, prototypes)\n",
        "            predicted_labels = torch.argmin(dists, dim=1)\n",
        "\n",
        "\n",
        "            real_pred_labels = [real_labels[pred.item()] for pred in predicted_labels]\n",
        "            real_train_labels = [real_labels[true.item()] for true in query_labels]\n",
        "\n",
        "            correct = sum(p == t for p, t in zip(real_pred_labels, real_train_labels))\n",
        "            train_total_correct += correct\n",
        "            train_total_samples += len(real_train_labels)\n",
        "\n",
        "            all_train_pred_labels.extend(real_pred_labels)\n",
        "            all_train_true_labels.extend(real_train_labels)\n",
        "\n",
        "    precision = precision_score(all_train_true_labels, all_train_pred_labels, average='macro')\n",
        "    recall = recall_score(all_train_true_labels, all_train_pred_labels, average='macro')\n",
        "    f1 = f1_score(all_train_true_labels, all_train_pred_labels, average='macro')\n",
        "\n",
        "    train_accuracy = (train_total_correct / train_total_samples) * 100\n",
        "\n",
        "    print(f\"Final Training Accuracy: {train_accuracy:.2f}%\")\n",
        "    print(f\"Train Precision: {precision:.4f}, Train Recall: {recall:.4f}, Train F1-score: {f1:.4f}\")\n",
        "\n",
        "    return train_accuracy, precision, recall, f1\n",
        "\n",
        "train_accuracy, precision, recall, f1 = train_protonet_evaluation(model, train_loader, device=\"cuda\")\n"
      ]
    },
    {
      "cell_type": "markdown",
      "metadata": {
        "id": "Y9mIVaRf-d9S"
      },
      "source": [
        "## TESTING DATA ACCURACY"
      ]
    },
    {
      "cell_type": "code",
      "execution_count": null,
      "metadata": {
        "id": "f3CLbUzvc_UJ"
      },
      "outputs": [],
      "source": [
        "import torch\n",
        "import os\n",
        "import pandas as pd\n",
        "import random\n",
        "from PIL import Image, UnidentifiedImageError\n",
        "from torchvision import transforms\n",
        "from tqdm import tqdm\n",
        "import gc\n",
        "from sklearn.metrics import precision_score, recall_score, f1_score\n",
        "\n",
        "def load_test_labels(csv_path):\n",
        "\n",
        "    df = pd.read_csv(csv_path)\n",
        "    label_map = {row[\"Path\"].split(\"/\")[-1]: row[\"ClassId\"] for _, row in df.iterrows()}\n",
        "    return label_map\n",
        "\n",
        "import torch\n",
        "import os\n",
        "import random\n",
        "from PIL import Image\n",
        "from torchvision import transforms\n",
        "\n",
        "def create_support_set(train_path, batch_size=500, image_size=224, device=\"cuda\", seed=42):\n",
        "\n",
        "    random.seed(seed)\n",
        "    torch.manual_seed(seed)\n",
        "\n",
        "    transform = transforms.Compose([\n",
        "        transforms.Resize((image_size, image_size)),\n",
        "        transforms.ToTensor(),\n",
        "        transforms.Normalize(mean=[0.485, 0.456, 0.406], std=[0.229, 0.224, 0.225])\n",
        "    ])\n",
        "\n",
        "    support_embeddings = []\n",
        "    support_labels = []\n",
        "\n",
        "    class_folders = sorted(os.listdir(train_path))\n",
        "    total_images = 0\n",
        "\n",
        "    for class_folder in class_folders:\n",
        "        class_path = os.path.join(train_path, class_folder)\n",
        "\n",
        "        if not os.path.isdir(class_path):\n",
        "            continue\n",
        "\n",
        "        image_files = [f for f in os.listdir(class_path) if f.endswith(('.png', '.jpg', '.jpeg'))]\n",
        "\n",
        "        batch = []\n",
        "        batch_labels = []\n",
        "\n",
        "        for img_name in image_files:\n",
        "            img_path = os.path.join(class_path, img_name)\n",
        "            image = Image.open(img_path).convert(\"RGB\")\n",
        "            image = transform(image).to(device)\n",
        "            batch.append(image)\n",
        "            batch_labels.append(int(class_folder))\n",
        "\n",
        "            if len(batch) == batch_size:\n",
        "                batch_tensor = torch.stack(batch).to(device)\n",
        "                batch_labels_tensor = torch.tensor(batch_labels, device=device)\n",
        "\n",
        "                with torch.no_grad():\n",
        "                    batch_embeddings = model(batch_tensor).cpu()\n",
        "\n",
        "                support_embeddings.append(batch_embeddings)\n",
        "                support_labels.append(batch_labels_tensor.cpu())\n",
        "                del batch_tensor, batch_labels_tensor, batch_embeddings\n",
        "                torch.cuda.empty_cache()\n",
        "                gc.collect()\n",
        "\n",
        "                batch = []\n",
        "                batch_labels = []\n",
        "\n",
        "\n",
        "        if batch:\n",
        "            batch_tensor = torch.stack(batch).to(device)\n",
        "            batch_labels_tensor = torch.tensor(batch_labels, device=device)\n",
        "\n",
        "            with torch.no_grad():\n",
        "                batch_embeddings = model(batch_tensor).cpu()\n",
        "\n",
        "            support_embeddings.append(batch_embeddings)\n",
        "            support_labels.append(batch_labels_tensor.cpu())\n",
        "\n",
        "            del batch_tensor, batch_labels_tensor, batch_embeddings\n",
        "            torch.cuda.empty_cache()\n",
        "            gc.collect()\n",
        "\n",
        "        total_images += len(image_files)\n",
        "\n",
        "    support_embeddings = torch.cat(support_embeddings, dim=0)\n",
        "    support_labels = torch.cat(support_labels, dim=0)\n",
        "\n",
        "    print(f\"Support set created with {total_images} images from {len(torch.unique(support_labels))} classes (Processed in batches).\")\n",
        "    return support_embeddings, support_labels\n",
        "\n",
        "def evaluate_protonet(model, train_path, test_path, test_csv, device=\"cuda\", test_batch_size=100):\n",
        "    model.eval()\n",
        "    model.to(device)\n",
        "    all_test_true_labels = []\n",
        "    all_test_pred_labels = []\n",
        "\n",
        "    support_embeddings, support_labels = create_support_set(train_path, batch_size=500, device=device)\n",
        "\n",
        "    unique_labels = torch.unique(support_labels)\n",
        "    class_prototypes = {}\n",
        "\n",
        "    for lbl in unique_labels:\n",
        "        class_prototypes[lbl.item()] = support_embeddings[support_labels == lbl].mean(0).cpu()\n",
        "\n",
        "    prototype_tensors = torch.stack([class_prototypes[lbl] for lbl in sorted(class_prototypes.keys())]).to(device)\n",
        "\n",
        "    test_labels = load_test_labels(test_csv)\n",
        "\n",
        "    transform = transforms.Compose([\n",
        "        transforms.Resize((224, 224)),\n",
        "        transforms.ToTensor(),\n",
        "        transforms.Normalize(mean=[0.485, 0.456, 0.406], std=[0.229, 0.224, 0.225])\n",
        "    ])\n",
        "\n",
        "    correct = 0\n",
        "    total = 0\n",
        "    all_test_pred_labels = []\n",
        "    all_test_true_labels = []\n",
        "\n",
        "    test_images = sorted(os.listdir(test_path))\n",
        "\n",
        "    for i in tqdm(range(0, len(test_images), test_batch_size), desc=\"Processing Test Images\"):\n",
        "        batch_files = test_images[i : i + test_batch_size]\n",
        "        batch_images = []\n",
        "        batch_labels = []\n",
        "\n",
        "        for image_name in batch_files:\n",
        "            image_path = os.path.join(test_path, image_name)\n",
        "\n",
        "            if not (image_name.endswith(\".png\") or image_name.endswith(\".jpg\") or image_name.endswith(\".jpeg\")):\n",
        "                continue\n",
        "\n",
        "            try:\n",
        "                image = Image.open(image_path).convert(\"RGB\")\n",
        "                image = transform(image)\n",
        "                batch_images.append(image)\n",
        "                batch_labels.append(test_labels.get(image_name, -1))\n",
        "            except Exception as e:\n",
        "                print(f\"Skipping invalid image {image_name}: {e}\")\n",
        "                continue\n",
        "\n",
        "        if not batch_images:\n",
        "            continue\n",
        "\n",
        "        batch_tensor = torch.stack(batch_images).to(device)\n",
        "        test_embeddings = model(batch_tensor)\n",
        "        distances = torch.cdist(test_embeddings, prototype_tensors, p=2)\n",
        "        predicted_classes = torch.argmin(distances, dim=1).cpu().numpy()\n",
        "        for pred, actual in zip(predicted_classes, batch_labels):\n",
        "            if actual != -1:\n",
        "                all_test_pred_labels.append(pred)\n",
        "                all_test_true_labels.append(actual)\n",
        "                if pred == actual:\n",
        "                    correct += 1\n",
        "                total += 1\n",
        "\n",
        "        del batch_tensor, test_embeddings, distances\n",
        "        torch.cuda.empty_cache()\n",
        "        gc.collect()\n",
        "\n",
        "    all_test_pred_labels.extend(predicted_classes)\n",
        "    all_test_true_labels.extend(batch_labels)\n",
        "\n",
        "    test_accuracy = (correct / total) * 100 if total > 0 else 0\n",
        "\n",
        "    precision = precision_score(all_test_true_labels, all_test_pred_labels, average='macro', zero_division=0)\n",
        "    recall = recall_score(all_test_true_labels, all_test_pred_labels, average='macro', zero_division=0)\n",
        "    f1 = f1_score(all_test_true_labels, all_test_pred_labels, average='macro', zero_division=0)\n",
        "    print(f\"Test Accuracy: {test_accuracy:.2f}%\")\n",
        "    print(f\"Test Precision: {precision:.4f}, Test Recall: {recall:.4f}, Test F1-score: {f1:.4f}\")\n",
        "\n",
        "    del support_embeddings, support_labels, prototype_tensors, model\n",
        "    torch.cuda.empty_cache()\n",
        "    gc.collect()\n",
        "    return test_accuracy, precision, recall, f1,all_test_true_labels, all_test_pred_labels\n",
        "\n"
      ]
    },
    {
      "cell_type": "code",
      "execution_count": null,
      "metadata": {
        "colab": {
          "base_uri": "https://localhost:8080/"
        },
        "id": "0qkpatM1dFJH",
        "outputId": "e827518c-3334-4c0a-fc55-a60ac2c3cbe6"
      },
      "outputs": [
        {
          "name": "stdout",
          "output_type": "stream",
          "text": [
            "Support set created with 39209 images from 43 classes (Processed in batches).\n"
          ]
        },
        {
          "name": "stderr",
          "output_type": "stream",
          "text": [
            "Processing Test Images: 100%|██████████| 127/127 [01:32<00:00,  1.37it/s]\n"
          ]
        },
        {
          "name": "stdout",
          "output_type": "stream",
          "text": [
            "Test Accuracy: 96.85%\n",
            "Test Precision: 0.9546, Test Recall: 0.9572, Test F1-score: 0.9550\n"
          ]
        }
      ],
      "source": [
        "\n",
        "train_path = \"/content/Train\"\n",
        "test_path = \"/content/Test\"\n",
        "test_csv = \"/content/Test.csv\"\n",
        "\n",
        "test_accuracy, precision, recall, f1, all_test_true_labels, all_test_pred_labels = evaluate_protonet(model, train_path, test_path, test_csv, device=\"cuda\")\n"
      ]
    },
    {
      "cell_type": "markdown",
      "metadata": {
        "id": "wb9Fu0zX-zk0"
      },
      "source": [
        "## CONFUSION MATRIX"
      ]
    },
    {
      "cell_type": "code",
      "execution_count": null,
      "metadata": {
        "colab": {
          "base_uri": "https://localhost:8080/",
          "height": 696
        },
        "id": "MNSG6wU_dHNH",
        "outputId": "f133b424-2eea-4705-9fb5-a1b191707798"
      },
      "outputs": [
        {
          "data": {
            "image/png": "[encoded data removed]",
            "text/plain": [
              "<Figure size 2000x1000 with 2 Axes>"
            ]
          },
          "metadata": {},
          "output_type": "display_data"
        }
      ],
      "source": [
        "import matplotlib.pyplot as plt\n",
        "import seaborn as sns\n",
        "from sklearn.metrics import confusion_matrix\n",
        "import numpy as np\n",
        "\n",
        "def plot_confusion_matrix(true_labels, pred_labels, class_names):\n",
        "    cm = confusion_matrix(true_labels, pred_labels)\n",
        "    plt.figure(figsize=(20, 10))\n",
        "    sns.heatmap(cm, annot=True, fmt=\"d\", cmap=\"Blues\", xticklabels=class_names, yticklabels=class_names)\n",
        "    plt.xlabel(\"Predicted Label\")\n",
        "    plt.ylabel(\"True Label\")\n",
        "    plt.title(\"Confusion Matrix\")\n",
        "    plt.show()\n",
        "\n",
        "plot_confusion_matrix(all_test_true_labels, all_test_pred_labels, class_names=[str(i) for i in range(43)])\n"
      ]
    },
    {
      "cell_type": "markdown",
      "metadata": {
        "id": "s6d1xzY0iI7a"
      },
      "source": [
        "## LOAD INDIAN TRAFFIC DATASET"
      ]
    },
    {
      "cell_type": "code",
      "execution_count": null,
      "metadata": {
        "id": "3urXkljuihun"
      },
      "outputs": [],
      "source": [
        "import kagglehub\n",
        "\n",
        "# Download latest version\n",
        "path = kagglehub.dataset_download(\"sarangdilipjodh/indian-traffic-signs-prediction85-classes\")\n",
        "\n",
        "print(\"Path to dataset files:\", path)"
      ]
    },
    {
      "cell_type": "code",
      "execution_count": null,
      "metadata": {
        "id": "CMLObKibimgS"
      },
      "outputs": [],
      "source": [
        "import shutil\n",
        "\n",
        "colab_path = \"/content\"\n",
        "shutil.copytree(path, colab_path, dirs_exist_ok=True)\n",
        "\n",
        "print(\"Datasets copied to Colab workspace.\")\n"
      ]
    },
    {
      "cell_type": "markdown",
      "metadata": {
        "id": "VLCvyB5rjFrW"
      },
      "source": [
        "## MOVE CATTLE IMAGES TO CONTENT DIRECTORY"
      ]
    },
    {
      "cell_type": "code",
      "execution_count": null,
      "metadata": {
        "id": "JTbsMpx0jLHn"
      },
      "outputs": [],
      "source": [
        "import shutil\n",
        "import os\n",
        "\n",
        "# Define source paths\n",
        "train_cattle_src = \"/content/traffic_sign_classification_dataset/train/CATTLE\"\n",
        "test_cattle_src = \"/content/traffic_sign_classification_dataset/test/CATTLE\"\n",
        "\n",
        "# Define destination paths\n",
        "train_cattle_dest = \"/content/CATTLE_train\"\n",
        "test_cattle_dest = \"/content/CATTLE_test\"\n",
        "\n",
        "# Ensure destination directories exist\n",
        "os.makedirs(train_cattle_dest, exist_ok=True)\n",
        "os.makedirs(test_cattle_dest, exist_ok=True)\n",
        "\n",
        "# Move CATTLE train folder\n",
        "shutil.move(train_cattle_src, train_cattle_dest)\n",
        "\n",
        "# Move CATTLE test folder\n",
        "shutil.move(test_cattle_src, test_cattle_dest)\n",
        "\n",
        "print(f\"Moved CATTLE train images to {train_cattle_dest}\")\n",
        "print(f\"Moved CATTLE test images to {test_cattle_dest}\")\n"
      ]
    },
    {
      "cell_type": "markdown",
      "metadata": {
        "id": "nNItrT8RjSYV"
      },
      "source": [
        "## TEST MODEL WITH NEW CLASS"
      ]
    },
    {
      "cell_type": "code",
      "execution_count": null,
      "metadata": {
        "id": "QA8EcsHDfiXo"
      },
      "outputs": [],
      "source": [
        "import torch\n",
        "import os\n",
        "import random\n",
        "import gc\n",
        "from PIL import Image\n",
        "from torchvision import transforms\n",
        "\n",
        "def create_support_set(train_path, cattle_path, batch_size=500, image_size=224, device=\"cuda\", seed=42):\n",
        "    random.seed(seed)\n",
        "    torch.manual_seed(seed)\n",
        "\n",
        "    transform = transforms.Compose([\n",
        "        transforms.Resize((image_size, image_size)),\n",
        "        transforms.ToTensor(),\n",
        "        transforms.Normalize(mean=[0.485, 0.456, 0.406], std=[0.229, 0.224, 0.225])\n",
        "    ])\n",
        "\n",
        "    support_embeddings = []\n",
        "    support_labels = []\n",
        "    class_folders = sorted(os.listdir(train_path))\n",
        "    total_images = 0\n",
        "\n",
        "    for class_folder in class_folders:\n",
        "        class_path = os.path.join(train_path, class_folder)\n",
        "\n",
        "        if not os.path.isdir(class_path):\n",
        "            continue\n",
        "\n",
        "        image_files = [f for f in os.listdir(class_path) if f.endswith(('.png', '.jpg', '.jpeg'))]\n",
        "\n",
        "        batch = []\n",
        "        batch_labels = []\n",
        "\n",
        "        for img_name in image_files:\n",
        "            img_path = os.path.join(class_path, img_name)\n",
        "            image = Image.open(img_path).convert(\"RGB\")\n",
        "            image = transform(image).to(device)\n",
        "            batch.append(image)\n",
        "            batch_labels.append(int(class_folder))\n",
        "\n",
        "            if len(batch) == batch_size:\n",
        "                batch_tensor = torch.stack(batch).to(device)\n",
        "                batch_labels_tensor = torch.tensor(batch_labels, device=device)\n",
        "\n",
        "                with torch.no_grad():\n",
        "                    batch_embeddings = model(batch_tensor).cpu()\n",
        "\n",
        "                support_embeddings.append(batch_embeddings)\n",
        "                support_labels.append(batch_labels_tensor.cpu())\n",
        "\n",
        "                del batch_tensor, batch_labels_tensor, batch_embeddings\n",
        "                torch.cuda.empty_cache()\n",
        "                gc.collect()\n",
        "\n",
        "                batch = []\n",
        "                batch_labels = []\n",
        "\n",
        "        if batch:\n",
        "            batch_tensor = torch.stack(batch).to(device)\n",
        "            batch_labels_tensor = torch.tensor(batch_labels, device=device)\n",
        "\n",
        "            with torch.no_grad():\n",
        "                batch_embeddings = model(batch_tensor).cpu()\n",
        "\n",
        "            support_embeddings.append(batch_embeddings)\n",
        "            support_labels.append(batch_labels_tensor.cpu())\n",
        "\n",
        "            del batch_tensor, batch_labels_tensor, batch_embeddings\n",
        "            torch.cuda.empty_cache()\n",
        "            gc.collect()\n",
        "\n",
        "        total_images += len(image_files)\n",
        "\n",
        "    print(\"🔍 Adding CATTLE images as class 43...\")\n",
        "\n",
        "    cattle_images = [f for f in os.listdir(cattle_path) if f.endswith(('.png', '.jpg', '.jpeg'))]\n",
        "\n",
        "    batch = []\n",
        "    batch_labels = []\n",
        "    for img_name in cattle_images:\n",
        "        img_path = os.path.join(cattle_path, img_name)\n",
        "        image = Image.open(img_path).convert(\"RGB\")\n",
        "        image = transform(image).to(device)\n",
        "        batch.append(image)\n",
        "        batch_labels.append(43)\n",
        "\n",
        "        if len(batch) == batch_size:\n",
        "            batch_tensor = torch.stack(batch).to(device)\n",
        "            batch_labels_tensor = torch.tensor(batch_labels, device=device)\n",
        "\n",
        "            with torch.no_grad():\n",
        "                batch_embeddings = model(batch_tensor).cpu()\n",
        "\n",
        "            support_embeddings.append(batch_embeddings)\n",
        "            support_labels.append(batch_labels_tensor.cpu())\n",
        "\n",
        "            del batch_tensor, batch_labels_tensor, batch_embeddings\n",
        "            torch.cuda.empty_cache()\n",
        "            gc.collect()\n",
        "\n",
        "            batch = []\n",
        "            batch_labels = []\n",
        "\n",
        "    if batch:\n",
        "        batch_tensor = torch.stack(batch).to(device)\n",
        "        batch_labels_tensor = torch.tensor(batch_labels, device=device)\n",
        "\n",
        "        with torch.no_grad():\n",
        "            batch_embeddings = model(batch_tensor).cpu()\n",
        "\n",
        "        support_embeddings.append(batch_embeddings)\n",
        "        support_labels.append(batch_labels_tensor.cpu())\n",
        "\n",
        "        del batch_tensor, batch_labels_tensor, batch_embeddings\n",
        "        torch.cuda.empty_cache()\n",
        "        gc.collect()\n",
        "\n",
        "    total_images += len(cattle_images)\n",
        "\n",
        "    support_embeddings = torch.cat(support_embeddings, dim=0)\n",
        "    support_labels = torch.cat(support_labels, dim=0)\n",
        "\n",
        "    print(f\"Support set created with {total_images} images from {len(torch.unique(support_labels))} classes (Processed in batches).\")\n",
        "    return support_embeddings, support_labels\n"
      ]
    },
    {
      "cell_type": "code",
      "execution_count": null,
      "metadata": {
        "id": "8CJdcxTPfipn"
      },
      "outputs": [],
      "source": [
        "import torch\n",
        "import os\n",
        "import gc\n",
        "import numpy as np\n",
        "from tqdm import tqdm\n",
        "from PIL import Image\n",
        "from torchvision import transforms\n",
        "from sklearn.metrics import precision_score, recall_score, f1_score\n",
        "\n",
        "def evaluate_cattle_protonet(model, train_path, cattle_train_path,cattle_test_path, device=\"cuda\", batch_size=100):\n",
        "    model.eval()\n",
        "    model.to(device)\n",
        "    support_embeddings, support_labels = create_support_set(train_path, cattle_train_path, batch_size=500, device=device)\n",
        "\n",
        "    unique_labels = torch.unique(support_labels)\n",
        "    class_prototypes = {lbl.item(): support_embeddings[support_labels == lbl].mean(0).cpu() for lbl in unique_labels}\n",
        "\n",
        "    prototype_tensors = torch.stack([class_prototypes[lbl] for lbl in sorted(class_prototypes.keys())]).to(device)\n",
        "\n",
        "    transform = transforms.Compose([\n",
        "        transforms.Resize((224,224)),\n",
        "        transforms.ToTensor(),\n",
        "        transforms.Normalize(mean=[0.485, 0.456, 0.406], std=[0.229, 0.224, 0.225])\n",
        "    ])\n",
        "\n",
        "    correct = 0\n",
        "    total = 0\n",
        "    all_test_pred_labels = []\n",
        "    all_test_true_labels = []\n",
        "\n",
        "    cattle_images = sorted([f for f in os.listdir(cattle_test_path) if f.endswith(('.png', '.jpg', '.jpeg'))])\n",
        "\n",
        "    for i in tqdm(range(0, len(cattle_images), batch_size), desc=\"Processing CATTLE Images\"):\n",
        "        batch_files = cattle_images[i: i + batch_size]\n",
        "        batch_images = []\n",
        "        batch_labels = []\n",
        "\n",
        "        for image_name in batch_files:\n",
        "            image_path = os.path.join(cattle_test_path, image_name)\n",
        "\n",
        "            try:\n",
        "                image = Image.open(image_path).convert(\"RGB\")\n",
        "                image = transform(image)\n",
        "                batch_images.append(image)\n",
        "                batch_labels.append(43)\n",
        "            except Exception as e:\n",
        "                print(f\"Skipping invalid image {image_name}: {e}\")\n",
        "                continue\n",
        "\n",
        "        if not batch_images:\n",
        "            continue\n",
        "\n",
        "        batch_tensor = torch.stack(batch_images).to(device)\n",
        "        test_embeddings = model(batch_tensor)\n",
        "\n",
        "        distances = torch.cdist(test_embeddings, prototype_tensors, p=2)\n",
        "        predicted_classes = torch.argmin(distances, dim=1).cpu().numpy()\n",
        "\n",
        "        for pred, actual in zip(predicted_classes, batch_labels):\n",
        "            all_test_pred_labels.append(pred)\n",
        "            all_test_true_labels.append(actual)\n",
        "            if pred == actual:\n",
        "                correct += 1\n",
        "            total += 1\n",
        "\n",
        "        del batch_tensor, test_embeddings, distances\n",
        "        torch.cuda.empty_cache()\n",
        "        gc.collect()\n",
        "\n",
        "    test_accuracy = (correct / total) * 100 if total > 0 else 0\n",
        "    del support_embeddings, support_labels, prototype_tensors, model\n",
        "    torch.cuda.empty_cache()\n",
        "    gc.collect()\n",
        "\n",
        "    return test_accuracy, all_test_true_labels, all_test_pred_labels\n"
      ]
    },
    {
      "cell_type": "code",
      "execution_count": null,
      "metadata": {
        "id": "zuZWcnJLgO4a"
      },
      "outputs": [],
      "source": [
        "train_path = \"/content/Train\"\n",
        "cattle_train_path = \"/content/CATTLE_train/CATTLE\"\n",
        "cattle_test_path = \"/content/CATTLE_test/CATTLE\"\n",
        "\n",
        "cattle_accuracy, true_labels, pred_labels = evaluate_cattle_protonet(model, train_path, cattle_train_path,cattle_test_path)\n",
        "\n",
        "print(f\"CATTLE Accuracy: {cattle_accuracy:.2f}%\")\n"
      ]
    }
  ],
  "metadata": {
    "accelerator": "GPU",
    "colab": {
      "gpuType": "T4",
      "provenance": []
    },
    "kernelspec": {
      "display_name": "Python 3",
      "name": "python3"
    },
    "language_info": {
      "name": "python"
    },
    "widgets": {
      "application/vnd.jupyter.widget-state+json": {
        "110a2fe9d0e04f28a3a91f4507cf6c97": {
          "model_module": "@jupyter-widgets/controls",
          "model_module_version": "1.5.0",
          "model_name": "HBoxModel",
          "state": {
            "_dom_classes": [],
            "_model_module": "@jupyter-widgets/controls",
            "_model_module_version": "1.5.0",
            "_model_name": "HBoxModel",
            "_view_count": null,
            "_view_module": "@jupyter-widgets/controls",
            "_view_module_version": "1.5.0",
            "_view_name": "HBoxView",
            "box_style": "",
            "children": [
              "IPY_MODEL_85547054d79c449f8dad7aa7ad910d98",
              "IPY_MODEL_f6a7b7dd62b94516b0c5d420f2447fe4",
              "IPY_MODEL_7615be22c6e140fd9cc474df794fbc8e"
            ],
            "layout": "IPY_MODEL_21190bfd93be49aeab424f64332cb247"
          }
        },
        "12d82b5d4d354336a3727aa413905a35": {
          "model_module": "@jupyter-widgets/base",
          "model_module_version": "1.2.0",
          "model_name": "LayoutModel",
          "state": {
            "_model_module": "@jupyter-widgets/base",
            "_model_module_version": "1.2.0",
            "_model_name": "LayoutModel",
            "_view_count": null,
            "_view_module": "@jupyter-widgets/base",
            "_view_module_version": "1.2.0",
            "_view_name": "LayoutView",
            "align_content": null,
            "align_items": null,
            "align_self": null,
            "border": null,
            "bottom": null,
            "display": null,
            "flex": null,
            "flex_flow": null,
            "grid_area": null,
            "grid_auto_columns": null,
            "grid_auto_flow": null,
            "grid_auto_rows": null,
            "grid_column": null,
            "grid_gap": null,
            "grid_row": null,
            "grid_template_areas": null,
            "grid_template_columns": null,
            "grid_template_rows": null,
            "height": null,
            "justify_content": null,
            "justify_items": null,
            "left": null,
            "margin": null,
            "max_height": null,
            "max_width": null,
            "min_height": null,
            "min_width": null,
            "object_fit": null,
            "object_position": null,
            "order": null,
            "overflow": null,
            "overflow_x": null,
            "overflow_y": null,
            "padding": null,
            "right": null,
            "top": null,
            "visibility": null,
            "width": null
          }
        },
        "21190bfd93be49aeab424f64332cb247": {
          "model_module": "@jupyter-widgets/base",
          "model_module_version": "1.2.0",
          "model_name": "LayoutModel",
          "state": {
            "_model_module": "@jupyter-widgets/base",
            "_model_module_version": "1.2.0",
            "_model_name": "LayoutModel",
            "_view_count": null,
            "_view_module": "@jupyter-widgets/base",
            "_view_module_version": "1.2.0",
            "_view_name": "LayoutView",
            "align_content": null,
            "align_items": null,
            "align_self": null,
            "border": null,
            "bottom": null,
            "display": null,
            "flex": null,
            "flex_flow": null,
            "grid_area": null,
            "grid_auto_columns": null,
            "grid_auto_flow": null,
            "grid_auto_rows": null,
            "grid_column": null,
            "grid_gap": null,
            "grid_row": null,
            "grid_template_areas": null,
            "grid_template_columns": null,
            "grid_template_rows": null,
            "height": null,
            "justify_content": null,
            "justify_items": null,
            "left": null,
            "margin": null,
            "max_height": null,
            "max_width": null,
            "min_height": null,
            "min_width": null,
            "object_fit": null,
            "object_position": null,
            "order": null,
            "overflow": null,
            "overflow_x": null,
            "overflow_y": null,
            "padding": null,
            "right": null,
            "top": null,
            "visibility": null,
            "width": null
          }
        },
        "2f977eec6d41400e8142d0d22de5547a": {
          "model_module": "@jupyter-widgets/base",
          "model_module_version": "1.2.0",
          "model_name": "LayoutModel",
          "state": {
            "_model_module": "@jupyter-widgets/base",
            "_model_module_version": "1.2.0",
            "_model_name": "LayoutModel",
            "_view_count": null,
            "_view_module": "@jupyter-widgets/base",
            "_view_module_version": "1.2.0",
            "_view_name": "LayoutView",
            "align_content": null,
            "align_items": null,
            "align_self": null,
            "border": null,
            "bottom": null,
            "display": null,
            "flex": null,
            "flex_flow": null,
            "grid_area": null,
            "grid_auto_columns": null,
            "grid_auto_flow": null,
            "grid_auto_rows": null,
            "grid_column": null,
            "grid_gap": null,
            "grid_row": null,
            "grid_template_areas": null,
            "grid_template_columns": null,
            "grid_template_rows": null,
            "height": null,
            "justify_content": null,
            "justify_items": null,
            "left": null,
            "margin": null,
            "max_height": null,
            "max_width": null,
            "min_height": null,
            "min_width": null,
            "object_fit": null,
            "object_position": null,
            "order": null,
            "overflow": null,
            "overflow_x": null,
            "overflow_y": null,
            "padding": null,
            "right": null,
            "top": null,
            "visibility": null,
            "width": null
          }
        },
        "56e22f7be220411b820f55de4b3ba6e7": {
          "model_module": "@jupyter-widgets/controls",
          "model_module_version": "1.5.0",
          "model_name": "ProgressStyleModel",
          "state": {
            "_model_module": "@jupyter-widgets/controls",
            "_model_module_version": "1.5.0",
            "_model_name": "ProgressStyleModel",
            "_view_count": null,
            "_view_module": "@jupyter-widgets/base",
            "_view_module_version": "1.2.0",
            "_view_name": "StyleView",
            "bar_color": null,
            "description_width": ""
          }
        },
        "7615be22c6e140fd9cc474df794fbc8e": {
          "model_module": "@jupyter-widgets/controls",
          "model_module_version": "1.5.0",
          "model_name": "HTMLModel",
          "state": {
            "_dom_classes": [],
            "_model_module": "@jupyter-widgets/controls",
            "_model_module_version": "1.5.0",
            "_model_name": "HTMLModel",
            "_view_count": null,
            "_view_module": "@jupyter-widgets/controls",
            "_view_module_version": "1.5.0",
            "_view_name": "HTMLView",
            "description": "",
            "description_tooltip": null,
            "layout": "IPY_MODEL_12d82b5d4d354336a3727aa413905a35",
            "placeholder": "​",
            "style": "IPY_MODEL_94da179885574603b3915c09eb62f4f3",
            "value": " 22.9M/22.9M [00:00&lt;00:00, 98.4MB/s]"
          }
        },
        "83c801f33b4549d483d03570644711f3": {
          "model_module": "@jupyter-widgets/base",
          "model_module_version": "1.2.0",
          "model_name": "LayoutModel",
          "state": {
            "_model_module": "@jupyter-widgets/base",
            "_model_module_version": "1.2.0",
            "_model_name": "LayoutModel",
            "_view_count": null,
            "_view_module": "@jupyter-widgets/base",
            "_view_module_version": "1.2.0",
            "_view_name": "LayoutView",
            "align_content": null,
            "align_items": null,
            "align_self": null,
            "border": null,
            "bottom": null,
            "display": null,
            "flex": null,
            "flex_flow": null,
            "grid_area": null,
            "grid_auto_columns": null,
            "grid_auto_flow": null,
            "grid_auto_rows": null,
            "grid_column": null,
            "grid_gap": null,
            "grid_row": null,
            "grid_template_areas": null,
            "grid_template_columns": null,
            "grid_template_rows": null,
            "height": null,
            "justify_content": null,
            "justify_items": null,
            "left": null,
            "margin": null,
            "max_height": null,
            "max_width": null,
            "min_height": null,
            "min_width": null,
            "object_fit": null,
            "object_position": null,
            "order": null,
            "overflow": null,
            "overflow_x": null,
            "overflow_y": null,
            "padding": null,
            "right": null,
            "top": null,
            "visibility": null,
            "width": null
          }
        },
        "85547054d79c449f8dad7aa7ad910d98": {
          "model_module": "@jupyter-widgets/controls",
          "model_module_version": "1.5.0",
          "model_name": "HTMLModel",
          "state": {
            "_dom_classes": [],
            "_model_module": "@jupyter-widgets/controls",
            "_model_module_version": "1.5.0",
            "_model_name": "HTMLModel",
            "_view_count": null,
            "_view_module": "@jupyter-widgets/controls",
            "_view_module_version": "1.5.0",
            "_view_name": "HTMLView",
            "description": "",
            "description_tooltip": null,
            "layout": "IPY_MODEL_2f977eec6d41400e8142d0d22de5547a",
            "placeholder": "​",
            "style": "IPY_MODEL_9c78c91fc16c4602a13b7ad6a2a87bbd",
            "value": "model.safetensors: 100%"
          }
        },
        "94da179885574603b3915c09eb62f4f3": {
          "model_module": "@jupyter-widgets/controls",
          "model_module_version": "1.5.0",
          "model_name": "DescriptionStyleModel",
          "state": {
            "_model_module": "@jupyter-widgets/controls",
            "_model_module_version": "1.5.0",
            "_model_name": "DescriptionStyleModel",
            "_view_count": null,
            "_view_module": "@jupyter-widgets/base",
            "_view_module_version": "1.2.0",
            "_view_name": "StyleView",
            "description_width": ""
          }
        },
        "9c78c91fc16c4602a13b7ad6a2a87bbd": {
          "model_module": "@jupyter-widgets/controls",
          "model_module_version": "1.5.0",
          "model_name": "DescriptionStyleModel",
          "state": {
            "_model_module": "@jupyter-widgets/controls",
            "_model_module_version": "1.5.0",
            "_model_name": "DescriptionStyleModel",
            "_view_count": null,
            "_view_module": "@jupyter-widgets/base",
            "_view_module_version": "1.2.0",
            "_view_name": "StyleView",
            "description_width": ""
          }
        },
        "f6a7b7dd62b94516b0c5d420f2447fe4": {
          "model_module": "@jupyter-widgets/controls",
          "model_module_version": "1.5.0",
          "model_name": "FloatProgressModel",
          "state": {
            "_dom_classes": [],
            "_model_module": "@jupyter-widgets/controls",
            "_model_module_version": "1.5.0",
            "_model_name": "FloatProgressModel",
            "_view_count": null,
            "_view_module": "@jupyter-widgets/controls",
            "_view_module_version": "1.5.0",
            "_view_name": "ProgressView",
            "bar_style": "success",
            "description": "",
            "description_tooltip": null,
            "layout": "IPY_MODEL_83c801f33b4549d483d03570644711f3",
            "max": 22858344,
            "min": 0,
            "orientation": "horizontal",
            "style": "IPY_MODEL_56e22f7be220411b820f55de4b3ba6e7",
            "value": 22858344
          }
        }
      }
    }
  },
  "nbformat": 4,
  "nbformat_minor": 0
}
